{
  "cells": [
    {
      "cell_type": "markdown",
      "metadata": {
        "id": "j5-OwokrFq-1"
      },
      "source": [
        "# **Import Library dan Pembacaan Dataset**"
      ]
    },
    {
      "cell_type": "code",
      "execution_count": 89,
      "metadata": {
        "id": "29ZM_7PKFRcN"
      },
      "outputs": [],
      "source": [
        "import pandas as pd\n",
        "import numpy as np\n",
        "import matplotlib.pyplot as plt\n",
        "import math\n",
        "import sklearn\n",
        "from scipy.stats import chi2_contingency\n",
        "\n",
        "from sklearn.compose import ColumnTransformer\n",
        "from sklearn.pipeline import Pipeline\n",
        "from sklearn.preprocessing import StandardScaler, OneHotEncoder\n",
        "from sklearn.svm import SVC\n",
        "from sklearn.ensemble import RandomForestClassifier\n",
        "from sklearn.model_selection import train_test_split, cross_val_score\n",
        "from sklearn.metrics import accuracy_score, confusion_matrix, classification_report\n"
      ]
    },
    {
      "cell_type": "code",
      "execution_count": 90,
      "metadata": {
        "colab": {
          "base_uri": "https://localhost:8080/",
          "height": 583
        },
        "id": "LVKa8peJFh8Y",
        "outputId": "1384a357-41b0-4a28-f00d-142efc443c0f"
      },
      "outputs": [
        {
          "output_type": "execute_result",
          "data": {
            "text/plain": [
              "     Dependents  tenure       OnlineSecurity         OnlineBackup  \\\n",
              "0           Yes       9                   No                   No   \n",
              "1            No      14                   No                  Yes   \n",
              "2            No      64                  Yes                   No   \n",
              "3            No      72                  Yes                  Yes   \n",
              "4            No       3  No internet service  No internet service   \n",
              "...         ...     ...                  ...                  ...   \n",
              "4925         No      15                   No                   No   \n",
              "4926        Yes      10                   No                   No   \n",
              "4927         No      58  No internet service  No internet service   \n",
              "4928         No       1                   No                   No   \n",
              "4929        Yes       4  No internet service  No internet service   \n",
              "\n",
              "     InternetService     DeviceProtection          TechSupport  \\\n",
              "0                DSL                  Yes                  Yes   \n",
              "1        Fiber optic                  Yes                   No   \n",
              "2                DSL                  Yes                  Yes   \n",
              "3                DSL                  Yes                  Yes   \n",
              "4                 No  No internet service  No internet service   \n",
              "...              ...                  ...                  ...   \n",
              "4925     Fiber optic                  Yes                  Yes   \n",
              "4926     Fiber optic                  Yes                  Yes   \n",
              "4927              No  No internet service  No internet service   \n",
              "4928     Fiber optic                   No                   No   \n",
              "4929              No  No internet service  No internet service   \n",
              "\n",
              "            Contract PaperlessBilling  MonthlyCharges Churn  \n",
              "0     Month-to-month              Yes           72.90   Yes  \n",
              "1     Month-to-month              Yes           82.65    No  \n",
              "2           Two year               No           47.85   Yes  \n",
              "3           Two year               No           69.65    No  \n",
              "4     Month-to-month              Yes           23.60    No  \n",
              "...              ...              ...             ...   ...  \n",
              "4925  Month-to-month              Yes          103.45    No  \n",
              "4926  Month-to-month              Yes           91.10    No  \n",
              "4927        Two year               No           20.75    No  \n",
              "4928  Month-to-month              Yes           69.75   Yes  \n",
              "4929  Month-to-month               No           20.40    No  \n",
              "\n",
              "[4930 rows x 11 columns]"
            ],
            "text/html": [
              "\n",
              "  <div id=\"df-e3ee03bc-e338-49d2-a300-85b699096ae0\" class=\"colab-df-container\">\n",
              "    <div>\n",
              "<style scoped>\n",
              "    .dataframe tbody tr th:only-of-type {\n",
              "        vertical-align: middle;\n",
              "    }\n",
              "\n",
              "    .dataframe tbody tr th {\n",
              "        vertical-align: top;\n",
              "    }\n",
              "\n",
              "    .dataframe thead th {\n",
              "        text-align: right;\n",
              "    }\n",
              "</style>\n",
              "<table border=\"1\" class=\"dataframe\">\n",
              "  <thead>\n",
              "    <tr style=\"text-align: right;\">\n",
              "      <th></th>\n",
              "      <th>Dependents</th>\n",
              "      <th>tenure</th>\n",
              "      <th>OnlineSecurity</th>\n",
              "      <th>OnlineBackup</th>\n",
              "      <th>InternetService</th>\n",
              "      <th>DeviceProtection</th>\n",
              "      <th>TechSupport</th>\n",
              "      <th>Contract</th>\n",
              "      <th>PaperlessBilling</th>\n",
              "      <th>MonthlyCharges</th>\n",
              "      <th>Churn</th>\n",
              "    </tr>\n",
              "  </thead>\n",
              "  <tbody>\n",
              "    <tr>\n",
              "      <th>0</th>\n",
              "      <td>Yes</td>\n",
              "      <td>9</td>\n",
              "      <td>No</td>\n",
              "      <td>No</td>\n",
              "      <td>DSL</td>\n",
              "      <td>Yes</td>\n",
              "      <td>Yes</td>\n",
              "      <td>Month-to-month</td>\n",
              "      <td>Yes</td>\n",
              "      <td>72.90</td>\n",
              "      <td>Yes</td>\n",
              "    </tr>\n",
              "    <tr>\n",
              "      <th>1</th>\n",
              "      <td>No</td>\n",
              "      <td>14</td>\n",
              "      <td>No</td>\n",
              "      <td>Yes</td>\n",
              "      <td>Fiber optic</td>\n",
              "      <td>Yes</td>\n",
              "      <td>No</td>\n",
              "      <td>Month-to-month</td>\n",
              "      <td>Yes</td>\n",
              "      <td>82.65</td>\n",
              "      <td>No</td>\n",
              "    </tr>\n",
              "    <tr>\n",
              "      <th>2</th>\n",
              "      <td>No</td>\n",
              "      <td>64</td>\n",
              "      <td>Yes</td>\n",
              "      <td>No</td>\n",
              "      <td>DSL</td>\n",
              "      <td>Yes</td>\n",
              "      <td>Yes</td>\n",
              "      <td>Two year</td>\n",
              "      <td>No</td>\n",
              "      <td>47.85</td>\n",
              "      <td>Yes</td>\n",
              "    </tr>\n",
              "    <tr>\n",
              "      <th>3</th>\n",
              "      <td>No</td>\n",
              "      <td>72</td>\n",
              "      <td>Yes</td>\n",
              "      <td>Yes</td>\n",
              "      <td>DSL</td>\n",
              "      <td>Yes</td>\n",
              "      <td>Yes</td>\n",
              "      <td>Two year</td>\n",
              "      <td>No</td>\n",
              "      <td>69.65</td>\n",
              "      <td>No</td>\n",
              "    </tr>\n",
              "    <tr>\n",
              "      <th>4</th>\n",
              "      <td>No</td>\n",
              "      <td>3</td>\n",
              "      <td>No internet service</td>\n",
              "      <td>No internet service</td>\n",
              "      <td>No</td>\n",
              "      <td>No internet service</td>\n",
              "      <td>No internet service</td>\n",
              "      <td>Month-to-month</td>\n",
              "      <td>Yes</td>\n",
              "      <td>23.60</td>\n",
              "      <td>No</td>\n",
              "    </tr>\n",
              "    <tr>\n",
              "      <th>...</th>\n",
              "      <td>...</td>\n",
              "      <td>...</td>\n",
              "      <td>...</td>\n",
              "      <td>...</td>\n",
              "      <td>...</td>\n",
              "      <td>...</td>\n",
              "      <td>...</td>\n",
              "      <td>...</td>\n",
              "      <td>...</td>\n",
              "      <td>...</td>\n",
              "      <td>...</td>\n",
              "    </tr>\n",
              "    <tr>\n",
              "      <th>4925</th>\n",
              "      <td>No</td>\n",
              "      <td>15</td>\n",
              "      <td>No</td>\n",
              "      <td>No</td>\n",
              "      <td>Fiber optic</td>\n",
              "      <td>Yes</td>\n",
              "      <td>Yes</td>\n",
              "      <td>Month-to-month</td>\n",
              "      <td>Yes</td>\n",
              "      <td>103.45</td>\n",
              "      <td>No</td>\n",
              "    </tr>\n",
              "    <tr>\n",
              "      <th>4926</th>\n",
              "      <td>Yes</td>\n",
              "      <td>10</td>\n",
              "      <td>No</td>\n",
              "      <td>No</td>\n",
              "      <td>Fiber optic</td>\n",
              "      <td>Yes</td>\n",
              "      <td>Yes</td>\n",
              "      <td>Month-to-month</td>\n",
              "      <td>Yes</td>\n",
              "      <td>91.10</td>\n",
              "      <td>No</td>\n",
              "    </tr>\n",
              "    <tr>\n",
              "      <th>4927</th>\n",
              "      <td>No</td>\n",
              "      <td>58</td>\n",
              "      <td>No internet service</td>\n",
              "      <td>No internet service</td>\n",
              "      <td>No</td>\n",
              "      <td>No internet service</td>\n",
              "      <td>No internet service</td>\n",
              "      <td>Two year</td>\n",
              "      <td>No</td>\n",
              "      <td>20.75</td>\n",
              "      <td>No</td>\n",
              "    </tr>\n",
              "    <tr>\n",
              "      <th>4928</th>\n",
              "      <td>No</td>\n",
              "      <td>1</td>\n",
              "      <td>No</td>\n",
              "      <td>No</td>\n",
              "      <td>Fiber optic</td>\n",
              "      <td>No</td>\n",
              "      <td>No</td>\n",
              "      <td>Month-to-month</td>\n",
              "      <td>Yes</td>\n",
              "      <td>69.75</td>\n",
              "      <td>Yes</td>\n",
              "    </tr>\n",
              "    <tr>\n",
              "      <th>4929</th>\n",
              "      <td>Yes</td>\n",
              "      <td>4</td>\n",
              "      <td>No internet service</td>\n",
              "      <td>No internet service</td>\n",
              "      <td>No</td>\n",
              "      <td>No internet service</td>\n",
              "      <td>No internet service</td>\n",
              "      <td>Month-to-month</td>\n",
              "      <td>No</td>\n",
              "      <td>20.40</td>\n",
              "      <td>No</td>\n",
              "    </tr>\n",
              "  </tbody>\n",
              "</table>\n",
              "<p>4930 rows × 11 columns</p>\n",
              "</div>\n",
              "    <div class=\"colab-df-buttons\">\n",
              "\n",
              "  <div class=\"colab-df-container\">\n",
              "    <button class=\"colab-df-convert\" onclick=\"convertToInteractive('df-e3ee03bc-e338-49d2-a300-85b699096ae0')\"\n",
              "            title=\"Convert this dataframe to an interactive table.\"\n",
              "            style=\"display:none;\">\n",
              "\n",
              "  <svg xmlns=\"http://www.w3.org/2000/svg\" height=\"24px\" viewBox=\"0 -960 960 960\">\n",
              "    <path d=\"M120-120v-720h720v720H120Zm60-500h600v-160H180v160Zm220 220h160v-160H400v160Zm0 220h160v-160H400v160ZM180-400h160v-160H180v160Zm440 0h160v-160H620v160ZM180-180h160v-160H180v160Zm440 0h160v-160H620v160Z\"/>\n",
              "  </svg>\n",
              "    </button>\n",
              "\n",
              "  <style>\n",
              "    .colab-df-container {\n",
              "      display:flex;\n",
              "      gap: 12px;\n",
              "    }\n",
              "\n",
              "    .colab-df-convert {\n",
              "      background-color: #E8F0FE;\n",
              "      border: none;\n",
              "      border-radius: 50%;\n",
              "      cursor: pointer;\n",
              "      display: none;\n",
              "      fill: #1967D2;\n",
              "      height: 32px;\n",
              "      padding: 0 0 0 0;\n",
              "      width: 32px;\n",
              "    }\n",
              "\n",
              "    .colab-df-convert:hover {\n",
              "      background-color: #E2EBFA;\n",
              "      box-shadow: 0px 1px 2px rgba(60, 64, 67, 0.3), 0px 1px 3px 1px rgba(60, 64, 67, 0.15);\n",
              "      fill: #174EA6;\n",
              "    }\n",
              "\n",
              "    .colab-df-buttons div {\n",
              "      margin-bottom: 4px;\n",
              "    }\n",
              "\n",
              "    [theme=dark] .colab-df-convert {\n",
              "      background-color: #3B4455;\n",
              "      fill: #D2E3FC;\n",
              "    }\n",
              "\n",
              "    [theme=dark] .colab-df-convert:hover {\n",
              "      background-color: #434B5C;\n",
              "      box-shadow: 0px 1px 3px 1px rgba(0, 0, 0, 0.15);\n",
              "      filter: drop-shadow(0px 1px 2px rgba(0, 0, 0, 0.3));\n",
              "      fill: #FFFFFF;\n",
              "    }\n",
              "  </style>\n",
              "\n",
              "    <script>\n",
              "      const buttonEl =\n",
              "        document.querySelector('#df-e3ee03bc-e338-49d2-a300-85b699096ae0 button.colab-df-convert');\n",
              "      buttonEl.style.display =\n",
              "        google.colab.kernel.accessAllowed ? 'block' : 'none';\n",
              "\n",
              "      async function convertToInteractive(key) {\n",
              "        const element = document.querySelector('#df-e3ee03bc-e338-49d2-a300-85b699096ae0');\n",
              "        const dataTable =\n",
              "          await google.colab.kernel.invokeFunction('convertToInteractive',\n",
              "                                                    [key], {});\n",
              "        if (!dataTable) return;\n",
              "\n",
              "        const docLinkHtml = 'Like what you see? Visit the ' +\n",
              "          '<a target=\"_blank\" href=https://colab.research.google.com/notebooks/data_table.ipynb>data table notebook</a>'\n",
              "          + ' to learn more about interactive tables.';\n",
              "        element.innerHTML = '';\n",
              "        dataTable['output_type'] = 'display_data';\n",
              "        await google.colab.output.renderOutput(dataTable, element);\n",
              "        const docLink = document.createElement('div');\n",
              "        docLink.innerHTML = docLinkHtml;\n",
              "        element.appendChild(docLink);\n",
              "      }\n",
              "    </script>\n",
              "  </div>\n",
              "\n",
              "\n",
              "<div id=\"df-d8c396af-e25f-4138-a6a2-563ca01cf9b6\">\n",
              "  <button class=\"colab-df-quickchart\" onclick=\"quickchart('df-d8c396af-e25f-4138-a6a2-563ca01cf9b6')\"\n",
              "            title=\"Suggest charts.\"\n",
              "            style=\"display:none;\">\n",
              "\n",
              "<svg xmlns=\"http://www.w3.org/2000/svg\" height=\"24px\"viewBox=\"0 0 24 24\"\n",
              "     width=\"24px\">\n",
              "    <g>\n",
              "        <path d=\"M19 3H5c-1.1 0-2 .9-2 2v14c0 1.1.9 2 2 2h14c1.1 0 2-.9 2-2V5c0-1.1-.9-2-2-2zM9 17H7v-7h2v7zm4 0h-2V7h2v10zm4 0h-2v-4h2v4z\"/>\n",
              "    </g>\n",
              "</svg>\n",
              "  </button>\n",
              "\n",
              "<style>\n",
              "  .colab-df-quickchart {\n",
              "      --bg-color: #E8F0FE;\n",
              "      --fill-color: #1967D2;\n",
              "      --hover-bg-color: #E2EBFA;\n",
              "      --hover-fill-color: #174EA6;\n",
              "      --disabled-fill-color: #AAA;\n",
              "      --disabled-bg-color: #DDD;\n",
              "  }\n",
              "\n",
              "  [theme=dark] .colab-df-quickchart {\n",
              "      --bg-color: #3B4455;\n",
              "      --fill-color: #D2E3FC;\n",
              "      --hover-bg-color: #434B5C;\n",
              "      --hover-fill-color: #FFFFFF;\n",
              "      --disabled-bg-color: #3B4455;\n",
              "      --disabled-fill-color: #666;\n",
              "  }\n",
              "\n",
              "  .colab-df-quickchart {\n",
              "    background-color: var(--bg-color);\n",
              "    border: none;\n",
              "    border-radius: 50%;\n",
              "    cursor: pointer;\n",
              "    display: none;\n",
              "    fill: var(--fill-color);\n",
              "    height: 32px;\n",
              "    padding: 0;\n",
              "    width: 32px;\n",
              "  }\n",
              "\n",
              "  .colab-df-quickchart:hover {\n",
              "    background-color: var(--hover-bg-color);\n",
              "    box-shadow: 0 1px 2px rgba(60, 64, 67, 0.3), 0 1px 3px 1px rgba(60, 64, 67, 0.15);\n",
              "    fill: var(--button-hover-fill-color);\n",
              "  }\n",
              "\n",
              "  .colab-df-quickchart-complete:disabled,\n",
              "  .colab-df-quickchart-complete:disabled:hover {\n",
              "    background-color: var(--disabled-bg-color);\n",
              "    fill: var(--disabled-fill-color);\n",
              "    box-shadow: none;\n",
              "  }\n",
              "\n",
              "  .colab-df-spinner {\n",
              "    border: 2px solid var(--fill-color);\n",
              "    border-color: transparent;\n",
              "    border-bottom-color: var(--fill-color);\n",
              "    animation:\n",
              "      spin 1s steps(1) infinite;\n",
              "  }\n",
              "\n",
              "  @keyframes spin {\n",
              "    0% {\n",
              "      border-color: transparent;\n",
              "      border-bottom-color: var(--fill-color);\n",
              "      border-left-color: var(--fill-color);\n",
              "    }\n",
              "    20% {\n",
              "      border-color: transparent;\n",
              "      border-left-color: var(--fill-color);\n",
              "      border-top-color: var(--fill-color);\n",
              "    }\n",
              "    30% {\n",
              "      border-color: transparent;\n",
              "      border-left-color: var(--fill-color);\n",
              "      border-top-color: var(--fill-color);\n",
              "      border-right-color: var(--fill-color);\n",
              "    }\n",
              "    40% {\n",
              "      border-color: transparent;\n",
              "      border-right-color: var(--fill-color);\n",
              "      border-top-color: var(--fill-color);\n",
              "    }\n",
              "    60% {\n",
              "      border-color: transparent;\n",
              "      border-right-color: var(--fill-color);\n",
              "    }\n",
              "    80% {\n",
              "      border-color: transparent;\n",
              "      border-right-color: var(--fill-color);\n",
              "      border-bottom-color: var(--fill-color);\n",
              "    }\n",
              "    90% {\n",
              "      border-color: transparent;\n",
              "      border-bottom-color: var(--fill-color);\n",
              "    }\n",
              "  }\n",
              "</style>\n",
              "\n",
              "  <script>\n",
              "    async function quickchart(key) {\n",
              "      const quickchartButtonEl =\n",
              "        document.querySelector('#' + key + ' button');\n",
              "      quickchartButtonEl.disabled = true;  // To prevent multiple clicks.\n",
              "      quickchartButtonEl.classList.add('colab-df-spinner');\n",
              "      try {\n",
              "        const charts = await google.colab.kernel.invokeFunction(\n",
              "            'suggestCharts', [key], {});\n",
              "      } catch (error) {\n",
              "        console.error('Error during call to suggestCharts:', error);\n",
              "      }\n",
              "      quickchartButtonEl.classList.remove('colab-df-spinner');\n",
              "      quickchartButtonEl.classList.add('colab-df-quickchart-complete');\n",
              "    }\n",
              "    (() => {\n",
              "      let quickchartButtonEl =\n",
              "        document.querySelector('#df-d8c396af-e25f-4138-a6a2-563ca01cf9b6 button');\n",
              "      quickchartButtonEl.style.display =\n",
              "        google.colab.kernel.accessAllowed ? 'block' : 'none';\n",
              "    })();\n",
              "  </script>\n",
              "</div>\n",
              "    </div>\n",
              "  </div>\n"
            ]
          },
          "metadata": {},
          "execution_count": 90
        }
      ],
      "source": [
        "df = pd.read_csv('data_telco_customer_churn.csv')\n",
        "df"
      ]
    },
    {
      "cell_type": "code",
      "source": [
        "# Hitung Total Pendapatan\n",
        "total_pendapatan = df['MonthlyCharges'].sum()\n",
        "\n",
        "# Hitung Total Biaya dari pelanggan yang berhenti berlangganan (Churn = 'Yes')\n",
        "total_biaya_churn = df[df['Churn'] == 'Yes']['MonthlyCharges'].sum()\n",
        "\n",
        "# Hitung Persentase Profit\n",
        "profit_percentage = ((total_pendapatan - total_biaya_churn) / total_pendapatan) * 100\n",
        "\n",
        "print(f'Persentase Profit: {profit_percentage:.2f}%')"
      ],
      "metadata": {
        "colab": {
          "base_uri": "https://localhost:8080/"
        },
        "id": "JsgoubgMo0JV",
        "outputId": "bd46e1bb-dd2b-4017-a9a0-18fb86b9a106"
      },
      "execution_count": 91,
      "outputs": [
        {
          "output_type": "stream",
          "name": "stdout",
          "text": [
            "Persentase Profit: 69.37%\n"
          ]
        }
      ]
    },
    {
      "cell_type": "code",
      "execution_count": 92,
      "metadata": {
        "colab": {
          "base_uri": "https://localhost:8080/"
        },
        "id": "ODPGAQJtFqW4",
        "outputId": "f4129345-4ca7-48d2-e7e5-4aae6e5b0e2d"
      },
      "outputs": [
        {
          "output_type": "execute_result",
          "data": {
            "text/plain": [
              "Index(['Dependents', 'tenure', 'OnlineSecurity', 'OnlineBackup',\n",
              "       'InternetService', 'DeviceProtection', 'TechSupport', 'Contract',\n",
              "       'PaperlessBilling', 'MonthlyCharges', 'Churn'],\n",
              "      dtype='object')"
            ]
          },
          "metadata": {},
          "execution_count": 92
        }
      ],
      "source": [
        "df.columns"
      ]
    },
    {
      "cell_type": "markdown",
      "metadata": {
        "id": "8NVwZYYwGFJS"
      },
      "source": [
        "# **Check kolom unik**"
      ]
    },
    {
      "cell_type": "code",
      "execution_count": 93,
      "metadata": {
        "colab": {
          "base_uri": "https://localhost:8080/"
        },
        "id": "QDZYWX4XGJFK",
        "outputId": "3f1cb3b1-a938-4908-d590-bdfbffde52e8"
      },
      "outputs": [
        {
          "output_type": "stream",
          "name": "stdout",
          "text": [
            "Column: Dependents - Unique Values: ['Yes' 'No']\n",
            "Column: tenure - Unique Values: [ 9 14 64 72  3 40 17 11  8 47 18  5  1 48 13 58  7  4 70 34 31 37 15 71\n",
            " 10 43 22 33 69 54 63 55 66 56 32 26 24  2 51 23 49 28 36 45 42  6 61 59\n",
            " 67 65  0 16 52 41 25 62 20 50 30 60 19 35 57 27 44 53 12 46 39 29 38 68\n",
            " 21]\n",
            "Column: OnlineSecurity - Unique Values: ['No' 'Yes' 'No internet service']\n",
            "Column: OnlineBackup - Unique Values: ['No' 'Yes' 'No internet service']\n",
            "Column: InternetService - Unique Values: ['DSL' 'Fiber optic' 'No']\n",
            "Column: DeviceProtection - Unique Values: ['Yes' 'No internet service' 'No']\n",
            "Column: TechSupport - Unique Values: ['Yes' 'No' 'No internet service']\n",
            "Column: Contract - Unique Values: ['Month-to-month' 'Two year' 'One year']\n",
            "Column: PaperlessBilling - Unique Values: ['Yes' 'No']\n",
            "Column: MonthlyCharges - Unique Values: [ 72.9   82.65  47.85 ...  58.45  23.65 108.5 ]\n",
            "Column: Churn - Unique Values: ['Yes' 'No']\n"
          ]
        }
      ],
      "source": [
        "for column in df.columns:\n",
        "    print('Column: {} - Unique Values: {}'.format(column, df[column].unique()))"
      ]
    },
    {
      "cell_type": "markdown",
      "metadata": {
        "id": "wNELMvVGG5Xo"
      },
      "source": [
        "**Data yang ditunjukkan pada hasil kolom unik di atas dapat dibagi menjadi 3 grup yaitu**\n",
        "\n",
        "**1.  Informasi Demografi**\n",
        "\n",
        "Dependents: Aapakah client memiliki tanggungan atau tidak (Yes/No)\n",
        "\n",
        "**2. Informasi Akun Customer**\n",
        "\n",
        "Tenure : Berapa bulan customer berlangganan dengan perusahaan (Value berbeda-beda)\n",
        "\n",
        "Contract : Tipe kontrak dari customer ('Month-to-month' 'Two year' 'One year')\n",
        "\n",
        "PaperlessBilling : Apakah customer memiliki tagihan tanpa kertas atau tidak (Yes/No)\n",
        "\n",
        "MonthlyCharges : Perubahan tagihan bulanan customer (Value berbeda-beda)\n",
        "\n",
        "**3. Informasi Servis**\n",
        "\n",
        "InternetService: Apakah client telah subscribed ke Internet service perusahaan ('DSL' 'Fiber optic' 'No')\n",
        "\n",
        "OnlineSecurity : Apakah client memiliki online security atau tidak (Yes/No)\n",
        "\n",
        "OnlineBackup : Apakah client memiliki backup secara online atau tidak (Yes/No)\n",
        "\n",
        "DeviceProtection : Apakah client memiliki proteksi device atau tidak (Yes/No)\n",
        "\n",
        "TechSupport : Apakah client memiliki tech support atau tidak (Yes/No)\n",
        "\n"
      ]
    },
    {
      "cell_type": "markdown",
      "metadata": {
        "id": "pGe6GGxWJ55i"
      },
      "source": [
        "# **Cleaning dan Eksplorasi Data**"
      ]
    },
    {
      "cell_type": "code",
      "execution_count": 94,
      "metadata": {
        "colab": {
          "base_uri": "https://localhost:8080/"
        },
        "id": "w-zYAfnCKGmn",
        "outputId": "4316a281-18a0-4647-a84b-59c938210219"
      },
      "outputs": [
        {
          "output_type": "stream",
          "name": "stdout",
          "text": [
            "<class 'pandas.core.frame.DataFrame'>\n",
            "RangeIndex: 4930 entries, 0 to 4929\n",
            "Data columns (total 11 columns):\n",
            " #   Column            Non-Null Count  Dtype  \n",
            "---  ------            --------------  -----  \n",
            " 0   Dependents        4930 non-null   object \n",
            " 1   tenure            4930 non-null   int64  \n",
            " 2   OnlineSecurity    4930 non-null   object \n",
            " 3   OnlineBackup      4930 non-null   object \n",
            " 4   InternetService   4930 non-null   object \n",
            " 5   DeviceProtection  4930 non-null   object \n",
            " 6   TechSupport       4930 non-null   object \n",
            " 7   Contract          4930 non-null   object \n",
            " 8   PaperlessBilling  4930 non-null   object \n",
            " 9   MonthlyCharges    4930 non-null   float64\n",
            " 10  Churn             4930 non-null   object \n",
            "dtypes: float64(1), int64(1), object(9)\n",
            "memory usage: 423.8+ KB\n"
          ]
        }
      ],
      "source": [
        "df.info()"
      ]
    },
    {
      "cell_type": "markdown",
      "metadata": {
        "id": "kq36U_wEKVSH"
      },
      "source": [
        "**Pada data di atas, ditunjukkan bahwa ada 4930 data observasi dan 11 kolom, terlihat tidak ada yang bermasalah pada tipe - tipe kolomnya, lanjut ke eksplorasi berikutnya**"
      ]
    },
    {
      "cell_type": "code",
      "execution_count": 95,
      "metadata": {
        "colab": {
          "base_uri": "https://localhost:8080/"
        },
        "id": "Iv8qTh7HK563",
        "outputId": "8a74f0fc-9e52-4b0e-ac26-624776217dd7"
      },
      "outputs": [
        {
          "output_type": "stream",
          "name": "stdout",
          "text": [
            "Dependents          0\n",
            "tenure              0\n",
            "OnlineSecurity      0\n",
            "OnlineBackup        0\n",
            "InternetService     0\n",
            "DeviceProtection    0\n",
            "TechSupport         0\n",
            "Contract            0\n",
            "PaperlessBilling    0\n",
            "MonthlyCharges      0\n",
            "Churn               0\n",
            "dtype: int64\n"
          ]
        }
      ],
      "source": [
        "# Memeriksa data NaN di seluruh kolom\n",
        "nan = df.isna().sum()\n",
        "print(nan)"
      ]
    },
    {
      "cell_type": "code",
      "execution_count": 96,
      "metadata": {
        "colab": {
          "base_uri": "https://localhost:8080/"
        },
        "id": "1rJN9M0FL-fd",
        "outputId": "66501914-897d-49cf-ec25-c37d1e9a203e"
      },
      "outputs": [
        {
          "output_type": "stream",
          "name": "stdout",
          "text": [
            "Dependents          0\n",
            "tenure              0\n",
            "OnlineSecurity      0\n",
            "OnlineBackup        0\n",
            "InternetService     0\n",
            "DeviceProtection    0\n",
            "TechSupport         0\n",
            "Contract            0\n",
            "PaperlessBilling    0\n",
            "MonthlyCharges      0\n",
            "Churn               0\n",
            "dtype: int64\n"
          ]
        }
      ],
      "source": [
        "# Memeriksa data null di seluruh kolom\n",
        "null = df.isnull().sum()\n",
        "print(null)"
      ]
    },
    {
      "cell_type": "markdown",
      "metadata": {
        "id": "dDnMTINKLxen"
      },
      "source": [
        "**Terlihat tidak ada data NaN dan Null di dalam data ini, jadi kita bisa lanjutkan ke proses Visualisasi Data**"
      ]
    },
    {
      "cell_type": "markdown",
      "metadata": {
        "id": "7n1kyTIpMTYX"
      },
      "source": [
        "# **Visualisasi Data**"
      ]
    },
    {
      "cell_type": "markdown",
      "metadata": {
        "id": "GWMuS57dN5DJ"
      },
      "source": [
        "***Visualisasi Variabel Yes dan No***"
      ]
    },
    {
      "cell_type": "code",
      "execution_count": 97,
      "metadata": {
        "colab": {
          "base_uri": "https://localhost:8080/",
          "height": 495
        },
        "id": "f5a69FWXMBUs",
        "outputId": "74ce2a17-42ea-48a8-c67e-1c97d674968d"
      },
      "outputs": [
        {
          "output_type": "display_data",
          "data": {
            "text/plain": [
              "<Figure size 1000x600 with 1 Axes>"
            ],
            "image/png": "[encoded data removed]"
          },
          "metadata": {}
        }
      ],
      "source": [
        "fig = plt.figure(figsize=(10, 6))\n",
        "ax = fig.add_subplot(111)\n",
        "\n",
        "# Proporsi dari observasi setiap kelas\n",
        "prop_response = df['Churn'].value_counts(normalize=True)\n",
        "\n",
        "# Buat bar plot untuk menampilkan persentase churn\n",
        "prop_response.plot(kind='bar',\n",
        "                   ax=ax,\n",
        "                   color=['red','blue'])\n",
        "\n",
        "# Buat judul dan label\n",
        "ax.set_title('Proporsi Observasi dari variabel Yes dan No',\n",
        "             fontsize=18)\n",
        "ax.set_xlabel('churn',\n",
        "              fontsize=14)\n",
        "ax.set_ylabel('Proporsi Observasi',\n",
        "              fontsize=14)\n",
        "ax.tick_params(rotation='auto')\n",
        "\n",
        "spine_names = ('top', 'right', 'bottom', 'left')\n",
        "for spine_name in spine_names:\n",
        "    ax.spines[spine_name].set_visible(False)"
      ]
    },
    {
      "cell_type": "markdown",
      "metadata": {
        "id": "OO0VJDCcM_7s"
      },
      "source": [
        "**Seperti dilihat pada bar plot di atas, ini merupakan persentase observasi yang sesuai dengan setiap kelas dari variabel : No dan Yes. Persebaran kelas terliaht tidak merata, dan kelas No lebih tinggi. Ketidakseimbangan ini akan mengarahkan jumlah False Negatives yang lebih besar**"
      ]
    },
    {
      "cell_type": "markdown",
      "metadata": {
        "id": "O0-AtiZ3N9wD"
      },
      "source": [
        "***Visualisasi Informasi Demografi***"
      ]
    },
    {
      "cell_type": "code",
      "execution_count": 98,
      "metadata": {
        "colab": {
          "base_uri": "https://localhost:8080/",
          "height": 508
        },
        "id": "edNTqA1tNamk",
        "outputId": "c89dd961-c22b-4095-8af9-0a52f223cde2"
      },
      "outputs": [
        {
          "output_type": "display_data",
          "data": {
            "text/plain": [
              "<Figure size 800x500 with 1 Axes>"
            ],
            "image/png": "[encoded data removed]"
          },
          "metadata": {}
        }
      ],
      "source": [
        "def persentase_plot(column_to_plot, super_title):\n",
        "    # Membuat plot\n",
        "    fig, ax = plt.subplots(figsize=(8, 5))\n",
        "    fig.suptitle(super_title, fontsize=22)\n",
        "\n",
        "    # Menghitung persentase pengamatan variabel respons untuk setiap kelompok variabel independen\n",
        "    prop_by_independent = pd.crosstab(df[column_to_plot], df['Churn']).apply(lambda x: x / x.sum() * 100, axis=1)\n",
        "\n",
        "    prop_by_independent.plot(kind='bar', ax=ax, stacked=True, rot=0, color=['blue', 'cyan'])\n",
        "\n",
        "    ax.legend(title='Churn')\n",
        "\n",
        "    # Buat judul dan label\n",
        "    ax.set_title('Proporsi Observasi Berdasarkan ' + column_to_plot, fontsize=16)\n",
        "    ax.set_xlabel('')\n",
        "    ax.text(0.5, -0.15, 'Informasi Demografi', fontsize=14, ha='center', transform=ax.transAxes)\n",
        "    plt.show()\n",
        "\n",
        "# Kolom yang ditampilkan\n",
        "demografi = 'Dependents'\n",
        "persentase_plot(demografi, '')"
      ]
    },
    {
      "cell_type": "markdown",
      "metadata": {
        "id": "hyQi0xOJOzlt"
      },
      "source": [
        "**Terlihat pada plot histogram di atas, ditampilkan proporsi observasi dari Dependents dari setiap kelas response (No dan Yes), dari plot in idapat disimpulkan bahwa customer yang memiliki tanggungan (Dependents) lebih sedikit dari yang tidak memiliki tanggungan**"
      ]
    },
    {
      "cell_type": "markdown",
      "metadata": {
        "id": "q1RyVN3NRopM"
      },
      "source": [
        "***Visualisasi Akun Customer***"
      ]
    },
    {
      "cell_type": "markdown",
      "metadata": {
        "id": "NcANVT2MRxw9"
      },
      "source": [
        "**Pada visualiasi ini, dilakukan evaluasi persentase Churn dari kategori Akun Customer (Contract dan PaperlessBilling)**"
      ]
    },
    {
      "cell_type": "code",
      "execution_count": 99,
      "metadata": {
        "id": "LKbmxAIVSspn"
      },
      "outputs": [],
      "source": [
        "def persentase_plot(column_to_plot, super_title):\n",
        "    number_of_columns = 2\n",
        "    number_of_rows = math.ceil(len(column_to_plot)/2)\n",
        "    fig = plt.figure(figsize=(12, 5 * number_of_rows))\n",
        "    fig.suptitle(super_title, fontsize=22,  y=.95)\n",
        "\n",
        "\n",
        "    # loop setiap nama kolom untuk dimasukkan dalam subplot\n",
        "    for index, column in enumerate(column_to_plot, 1):\n",
        "\n",
        "        # Membuat subplot\n",
        "        ax = fig.add_subplot(number_of_rows, number_of_columns, index)\n",
        "\n",
        "        # menghitung persentase pengamatan variabel respons untuk setiap kelompok variabel independen\n",
        "        prop_by_independent = pd.crosstab(df[column], df['Churn']).apply(lambda x: x/x.sum()*100, axis=1)\n",
        "\n",
        "        prop_by_independent.plot(kind='bar', ax=ax, stacked=True,\n",
        "                                 rot=0, color=['cyan','orange'])\n",
        "\n",
        "        # set posisi legend\n",
        "        ax.legend(loc=\"upper right\", bbox_to_anchor=(0.62, 0.5, 0.5, 0.5),\n",
        "                  title='Churn', fancybox=True)\n",
        "\n",
        "        # membuat judul dan label\n",
        "        ax.set_title('Proporsi Observasi Berdasarkan ' + column, fontsize=13, y=-0.2)\n",
        "\n",
        "        ax.tick_params(rotation='auto')\n",
        "\n",
        "        spine_names = ('top', 'right', 'bottom', 'left')\n",
        "        for spine_name in spine_names:\n",
        "            ax.spines[spine_name].set_visible(False)\n"
      ]
    },
    {
      "cell_type": "code",
      "execution_count": 100,
      "metadata": {
        "id": "oB3gjUf9QtBL"
      },
      "outputs": [],
      "source": [
        "akun = ['Contract', 'PaperlessBilling']"
      ]
    },
    {
      "cell_type": "code",
      "execution_count": 101,
      "metadata": {
        "colab": {
          "base_uri": "https://localhost:8080/",
          "height": 381
        },
        "id": "fDheFth2SUgR",
        "outputId": "81ba2c30-bca4-42b9-bbda-0e382e3d68a0"
      },
      "outputs": [
        {
          "output_type": "display_data",
          "data": {
            "text/plain": [
              "<Figure size 1200x500 with 2 Axes>"
            ],
            "image/png": "[encoded data removed]"
          },
          "metadata": {}
        }
      ],
      "source": [
        "persentase_plot(akun, 'Informasi Akun Customer')"
      ]
    },
    {
      "cell_type": "markdown",
      "metadata": {
        "id": "rgsVOUW9UX4r"
      },
      "source": [
        "**Kesimpulan dari histogram pada kategori customer account ini adalah**\n",
        "\n",
        "**Customer dengan kontrak month-to-month memiliki rating churn tertinggi daripada kontrak tahunan dan 2 tahunan**\n",
        "\n",
        "**Customer dengan pembayaran paperless lebih banyak daripada yang tidak paperless**"
      ]
    },
    {
      "cell_type": "markdown",
      "metadata": {
        "id": "usL6BOh6Ves4"
      },
      "source": [
        "***Visualisasi Informasi Akun Customer dengan Variabel Numerikal***\n",
        "\n",
        "pada plot ini digunakan kolom tenure, MonthlyCharges, Total Charges berdasarkan Churn"
      ]
    },
    {
      "cell_type": "code",
      "execution_count": 102,
      "metadata": {
        "colab": {
          "base_uri": "https://localhost:8080/",
          "height": 372
        },
        "id": "nPHxijCAVSw2",
        "outputId": "cde6132a-fb5b-46ca-eb79-9e944bd54a42"
      },
      "outputs": [
        {
          "output_type": "display_data",
          "data": {
            "text/plain": [
              "<Figure size 1200x500 with 2 Axes>"
            ],
            "image/png": "[encoded data removed]"
          },
          "metadata": {}
        }
      ],
      "source": [
        "def histogram_plots(columns_to_plot, super_title):\n",
        "\n",
        "    # Tentukan jumlah baris dan kolom\n",
        "    number_of_columns = 2\n",
        "    number_of_rows = math.ceil(len(columns_to_plot)/2)\n",
        "    fig = plt.figure(figsize=(12, 5 * number_of_rows))\n",
        "    fig.suptitle(super_title, fontsize=22,  y=.95)\n",
        "\n",
        "\n",
        "    # loop setiap kolom demografi untuk dijadikan subplot\n",
        "    for index, column in enumerate(columns_to_plot, 1):\n",
        "\n",
        "        # Membaut subplot\n",
        "        ax = fig.add_subplot(number_of_rows, number_of_columns, index)\n",
        "\n",
        "        # histograms untuk setiap kelas (histogram yang telah dinormalisasi)\n",
        "        df[df['Churn']=='No'][column].plot(kind='hist', ax=ax, density=True,\n",
        "                                                       alpha=0.5, color='orange', label='No')\n",
        "        df[df['Churn']=='Yes'][column].plot(kind='hist', ax=ax, density=True,\n",
        "                                                        alpha=0.5, color='red', label='Yes')\n",
        "\n",
        "        # set posisi legend\n",
        "        ax.legend(loc=\"upper right\", bbox_to_anchor=(0.5, 0.5, 0.5, 0.5),\n",
        "                  title='Churn', fancybox=True)\n",
        "\n",
        "        # Membuat judul dan label\n",
        "        ax.set_title('Distribusi ' + column + ' berdasarkan churn',\n",
        "                     fontsize=16, y=-0.2)\n",
        "\n",
        "        ax.tick_params(rotation='auto')\n",
        "\n",
        "        spine_names = ('top', 'right', 'bottom', 'left')\n",
        "        for spine_name in spine_names:\n",
        "            ax.spines[spine_name].set_visible(False)\n",
        "\n",
        "# nama kolom akun customer\n",
        "account_columns_numeric = ['tenure', 'MonthlyCharges']\n",
        "# histogram dari kolom akun customer\n",
        "histogram_plots(account_columns_numeric, 'Informasi Akun Customer')"
      ]
    },
    {
      "cell_type": "markdown",
      "metadata": {
        "id": "KuD6-nmbWvqQ"
      },
      "source": [
        "**Kesimpulan dari histogram di atas adalah:**\n",
        "\n",
        "**rate churn lebih besar saat monthly charges tinggi**\n",
        "\n",
        "**customer baru(tenure rendah) cenderung churn**"
      ]
    },
    {
      "cell_type": "markdown",
      "metadata": {
        "id": "Xx8ikAdUXQk6"
      },
      "source": [
        "***Visualisasi Informasi Servis***\n",
        "\n",
        "**pada plot ini digunakan kolom MultipleLines', 'InternetService', 'OnlineSecurity', 'OnlineBackup', 'DeviceProtection' dan 'TechSupport'**"
      ]
    },
    {
      "cell_type": "code",
      "execution_count": 103,
      "metadata": {
        "colab": {
          "base_uri": "https://localhost:8080/",
          "height": 971
        },
        "id": "rymNK-JXXMHL",
        "outputId": "4a37eb8a-ddd2-4b5c-c4ad-97ce45d41efc"
      },
      "outputs": [
        {
          "output_type": "display_data",
          "data": {
            "text/plain": [
              "<Figure size 1200x1500 with 5 Axes>"
            ],
            "image/png": "[encoded data removed]"
          },
          "metadata": {}
        }
      ],
      "source": [
        "servis = ['InternetService', 'OnlineSecurity', 'OnlineBackup', 'DeviceProtection', 'TechSupport']\n",
        "persentase_plot(servis, 'Informasi Servis')"
      ]
    },
    {
      "cell_type": "markdown",
      "metadata": {
        "id": "vi3pyvqBY7Fi"
      },
      "source": [
        "**Kesimpulan dari histogram ini :**\n",
        "\n",
        "**Persentase churcn dari seluruh kelas hampir seluruhnya sama**\n",
        "\n",
        "**Client dengan online security lebih sedikit daripada yang tanpa online security**\n",
        "\n",
        "**Customer tanpa tech support lebih banyak daripada yang dengan tech support**"
      ]
    },
    {
      "cell_type": "markdown",
      "metadata": {
        "id": "itrHvU4Db134"
      },
      "source": [
        "# **Feature Importance**\n",
        "\n",
        "**Feature Importance ini adalah bagian untuk mengukur sejauh mana skor antara variabel kategorikal berhubungan dengan variabel target 'Churn' , semakin tinggi skornya semakin besar pengaruhnya. Hasil dari perhitungan ini diurutkan secara descending dan diplot dalam histogram horizontal**"
      ]
    },
    {
      "cell_type": "code",
      "execution_count": 104,
      "metadata": {
        "colab": {
          "base_uri": "https://localhost:8080/",
          "height": 607
        },
        "id": "zhGz8cTxZXpi",
        "outputId": "a47568c5-5a76-4972-dca0-968a4387ecae"
      },
      "outputs": [
        {
          "output_type": "stream",
          "name": "stdout",
          "text": [
            "Contract            870.121511\n",
            "OnlineSecurity      580.829899\n",
            "TechSupport         558.486545\n",
            "InternetService     514.527398\n",
            "OnlineBackup        445.104879\n",
            "DeviceProtection    373.507074\n",
            "PaperlessBilling    174.755767\n",
            "Dependents          143.443931\n",
            "dtype: float64\n"
          ]
        },
        {
          "output_type": "display_data",
          "data": {
            "text/plain": [
              "<Figure size 1000x600 with 1 Axes>"
            ],
            "image/png": "[encoded data removed]"
          },
          "metadata": {}
        }
      ],
      "source": [
        "# Fungsi yang menghitung Chi-squared dan pengaruh variabel terhadap Churn\n",
        "def hitung_chi2_score(categorical_serie):\n",
        "    contingency_table = pd.crosstab(categorical_serie, df['Churn'])\n",
        "    chi2, _, _, _ = chi2_contingency(contingency_table)\n",
        "    return chi2\n",
        "\n",
        "# Pilih variabel kategorikal, kecuali variabel respons\n",
        "categorical_variables = df.select_dtypes(include=object).drop('Churn', axis=1)\n",
        "\n",
        "# Hitung skor Chi-squared untuk setiap variabel kategorikal\n",
        "feature_importance = categorical_variables.apply(hitung_chi2_score).sort_values(ascending=False)\n",
        "\n",
        "# Visualisasikan pengaruh fitur\n",
        "print(feature_importance)\n",
        "\n",
        "colors = plt.cm.viridis(np.linspace(0, 1, len(feature_importance)))\n",
        "plt.figure(figsize=(10, 6))\n",
        "plt.barh(feature_importance.index, feature_importance, color=colors)\n",
        "plt.xlabel('Skor Chi-squared')\n",
        "plt.title('Chi-squared Score untuk Variabel Kategorikal')\n",
        "plt.gca().invert_yaxis()\n",
        "plt.show()"
      ]
    },
    {
      "cell_type": "markdown",
      "metadata": {
        "id": "5Ur0ovqvbxeq"
      },
      "source": [
        "**Kesimpulan dari histogram ini adalah :**\n",
        "\n",
        "**Pengaruh paling sgnifikan terhadap variabel target 'Churn' terdapat pada Contract,OnlineSecurity, dan TechSupport. Sedangkan InternetService, OnlineBackup, DeviceProtection, PaperlessBilling, dan Dependents juga memiliki pengaruh, tetapi lebih rendah**"
      ]
    },
    {
      "cell_type": "markdown",
      "metadata": {
        "id": "lUc6c53ReNH-"
      },
      "source": [
        "# **Feature Selection**\n"
      ]
    },
    {
      "cell_type": "markdown",
      "source": [
        "**Bagian ini bertujuan untuk memisahkan fitur X dan label y, model akan mempelajari relasi antara fitur dalam X dan label y dalam membuat prediksi apakah pelanggan akan berhenti berlangganan (churn) atau tidak**"
      ],
      "metadata": {
        "id": "G4RZaEk-P8I1"
      }
    },
    {
      "cell_type": "code",
      "source": [
        "# Pisahkan fitur dan label\n",
        "X = df.drop(columns='Churn')\n",
        "y = df['Churn']"
      ],
      "metadata": {
        "id": "Tl0Iv9-SKxKu"
      },
      "execution_count": 105,
      "outputs": []
    },
    {
      "cell_type": "markdown",
      "source": [
        "**Bagian ini bertujuan untuk split dataset, 25% dari data akan digunakan untuk data test**"
      ],
      "metadata": {
        "id": "9n5dldEgQTs-"
      }
    },
    {
      "cell_type": "code",
      "source": [
        "# Split data menjadi train dan test\n",
        "X_train, X_test, y_train, y_test = train_test_split(X, y, test_size=0.25, random_state=32, shuffle=True)"
      ],
      "metadata": {
        "id": "b-AO9E1FK8CT"
      },
      "execution_count": 106,
      "outputs": []
    },
    {
      "cell_type": "markdown",
      "source": [
        "**Bagian ini bertujuan menentukan kolom kategorikal dan numerikal, ini merupakan langkah awal proses data sebelum dimasukkan dalam model. Untuk categorical_cols, dipilih nama-nama kolom yang memiliki tipe data 'object' kemudian untuk numerical_cols dipilih kolom-kolom yang memiliki tipe data bukan 'object'**"
      ],
      "metadata": {
        "id": "zXKPyox2Q3df"
      }
    },
    {
      "cell_type": "code",
      "source": [
        "# Definisi transformer untuk variabel numerik dan kategorikal\n",
        "categorical_cols = X.select_dtypes(include=['object']).columns\n",
        "numerical_cols = X.select_dtypes(exclude=['object']).columns"
      ],
      "metadata": {
        "id": "ZDILOqXsK8ef"
      },
      "execution_count": 107,
      "outputs": []
    },
    {
      "cell_type": "markdown",
      "source": [
        "# **Pemodelan dengan Support Vector Classifier**"
      ],
      "metadata": {
        "id": "GQEhdKbrPMcb"
      }
    },
    {
      "cell_type": "markdown",
      "source": [
        "**Pada bagian ini digunakan 'ColumnTransformer' untuk penggabungan 2 jenis transformasi pada data:**\n",
        "\n",
        "**1. StandarScaler untuk variabel numerik(scaling)**\n",
        "\n",
        "**2. OneHotEncoder untuk variabel kategorikal(one hot encoding)**\n",
        "\n",
        "**selanjutnya dibuat sebuah pipeline untuk menggabungkan preprocessor dan model Support Vector Classifier untuk melatih model. Kemudian model dilatih pada data train (X_train dan y_train)**"
      ],
      "metadata": {
        "id": "56ekqrcrR7x6"
      }
    },
    {
      "cell_type": "code",
      "source": [
        "# ColumnTransformer untuk menggabungkan transformer\n",
        "preprocessor = ColumnTransformer(\n",
        "    transformers=[\n",
        "        ('num', StandardScaler(), numerical_cols),  # Scaling variabel numerik\n",
        "        ('cat', OneHotEncoder(drop='first'), categorical_cols)  # One hot encoding variabel kategorikal\n",
        "    ])\n",
        "\n",
        "# Buat pipeline dengan preprocessor dan model Support Vector Classifier\n",
        "pipeline = Pipeline([\n",
        "    ('preprocessor', preprocessor),\n",
        "    ('model', SVC(random_state=32))\n",
        "])\n",
        "\n",
        "# Latih model dengan pipeline\n",
        "pipeline.fit(X_train, y_train)"
      ],
      "metadata": {
        "colab": {
          "base_uri": "https://localhost:8080/",
          "height": 194
        },
        "id": "UhrL-quhK8cK",
        "outputId": "3cba59b3-f317-4755-b2db-78bcdb31c0d9"
      },
      "execution_count": 108,
      "outputs": [
        {
          "output_type": "execute_result",
          "data": {
            "text/plain": [
              "Pipeline(steps=[('preprocessor',\n",
              "                 ColumnTransformer(transformers=[('num', StandardScaler(),\n",
              "                                                  Index(['tenure', 'MonthlyCharges'], dtype='object')),\n",
              "                                                 ('cat',\n",
              "                                                  OneHotEncoder(drop='first'),\n",
              "                                                  Index(['Dependents', 'OnlineSecurity', 'OnlineBackup', 'InternetService',\n",
              "       'DeviceProtection', 'TechSupport', 'Contract', 'PaperlessBilling'],\n",
              "      dtype='object'))])),\n",
              "                ('model', SVC(random_state=32))])"
            ],
            "text/html": [
              "<style>#sk-container-id-7 {color: black;background-color: white;}#sk-container-id-7 pre{padding: 0;}#sk-container-id-7 div.sk-toggleable {background-color: white;}#sk-container-id-7 label.sk-toggleable__label {cursor: pointer;display: block;width: 100%;margin-bottom: 0;padding: 0.3em;box-sizing: border-box;text-align: center;}#sk-container-id-7 label.sk-toggleable__label-arrow:before {content: \"▸\";float: left;margin-right: 0.25em;color: #696969;}#sk-container-id-7 label.sk-toggleable__label-arrow:hover:before {color: black;}#sk-container-id-7 div.sk-estimator:hover label.sk-toggleable__label-arrow:before {color: black;}#sk-container-id-7 div.sk-toggleable__content {max-height: 0;max-width: 0;overflow: hidden;text-align: left;background-color: #f0f8ff;}#sk-container-id-7 div.sk-toggleable__content pre {margin: 0.2em;color: black;border-radius: 0.25em;background-color: #f0f8ff;}#sk-container-id-7 input.sk-toggleable__control:checked~div.sk-toggleable__content {max-height: 200px;max-width: 100%;overflow: auto;}#sk-container-id-7 input.sk-toggleable__control:checked~label.sk-toggleable__label-arrow:before {content: \"▾\";}#sk-container-id-7 div.sk-estimator input.sk-toggleable__control:checked~label.sk-toggleable__label {background-color: #d4ebff;}#sk-container-id-7 div.sk-label input.sk-toggleable__control:checked~label.sk-toggleable__label {background-color: #d4ebff;}#sk-container-id-7 input.sk-hidden--visually {border: 0;clip: rect(1px 1px 1px 1px);clip: rect(1px, 1px, 1px, 1px);height: 1px;margin: -1px;overflow: hidden;padding: 0;position: absolute;width: 1px;}#sk-container-id-7 div.sk-estimator {font-family: monospace;background-color: #f0f8ff;border: 1px dotted black;border-radius: 0.25em;box-sizing: border-box;margin-bottom: 0.5em;}#sk-container-id-7 div.sk-estimator:hover {background-color: #d4ebff;}#sk-container-id-7 div.sk-parallel-item::after {content: \"\";width: 100%;border-bottom: 1px solid gray;flex-grow: 1;}#sk-container-id-7 div.sk-label:hover label.sk-toggleable__label {background-color: #d4ebff;}#sk-container-id-7 div.sk-serial::before {content: \"\";position: absolute;border-left: 1px solid gray;box-sizing: border-box;top: 0;bottom: 0;left: 50%;z-index: 0;}#sk-container-id-7 div.sk-serial {display: flex;flex-direction: column;align-items: center;background-color: white;padding-right: 0.2em;padding-left: 0.2em;position: relative;}#sk-container-id-7 div.sk-item {position: relative;z-index: 1;}#sk-container-id-7 div.sk-parallel {display: flex;align-items: stretch;justify-content: center;background-color: white;position: relative;}#sk-container-id-7 div.sk-item::before, #sk-container-id-7 div.sk-parallel-item::before {content: \"\";position: absolute;border-left: 1px solid gray;box-sizing: border-box;top: 0;bottom: 0;left: 50%;z-index: -1;}#sk-container-id-7 div.sk-parallel-item {display: flex;flex-direction: column;z-index: 1;position: relative;background-color: white;}#sk-container-id-7 div.sk-parallel-item:first-child::after {align-self: flex-end;width: 50%;}#sk-container-id-7 div.sk-parallel-item:last-child::after {align-self: flex-start;width: 50%;}#sk-container-id-7 div.sk-parallel-item:only-child::after {width: 0;}#sk-container-id-7 div.sk-dashed-wrapped {border: 1px dashed gray;margin: 0 0.4em 0.5em 0.4em;box-sizing: border-box;padding-bottom: 0.4em;background-color: white;}#sk-container-id-7 div.sk-label label {font-family: monospace;font-weight: bold;display: inline-block;line-height: 1.2em;}#sk-container-id-7 div.sk-label-container {text-align: center;}#sk-container-id-7 div.sk-container {/* jupyter's `normalize.less` sets `[hidden] { display: none; }` but bootstrap.min.css set `[hidden] { display: none !important; }` so we also need the `!important` here to be able to override the default hidden behavior on the sphinx rendered scikit-learn.org. See: https://github.com/scikit-learn/scikit-learn/issues/21755 */display: inline-block !important;position: relative;}#sk-container-id-7 div.sk-text-repr-fallback {display: none;}</style><div id=\"sk-container-id-7\" class=\"sk-top-container\"><div class=\"sk-text-repr-fallback\"><pre>Pipeline(steps=[(&#x27;preprocessor&#x27;,\n",
              "                 ColumnTransformer(transformers=[(&#x27;num&#x27;, StandardScaler(),\n",
              "                                                  Index([&#x27;tenure&#x27;, &#x27;MonthlyCharges&#x27;], dtype=&#x27;object&#x27;)),\n",
              "                                                 (&#x27;cat&#x27;,\n",
              "                                                  OneHotEncoder(drop=&#x27;first&#x27;),\n",
              "                                                  Index([&#x27;Dependents&#x27;, &#x27;OnlineSecurity&#x27;, &#x27;OnlineBackup&#x27;, &#x27;InternetService&#x27;,\n",
              "       &#x27;DeviceProtection&#x27;, &#x27;TechSupport&#x27;, &#x27;Contract&#x27;, &#x27;PaperlessBilling&#x27;],\n",
              "      dtype=&#x27;object&#x27;))])),\n",
              "                (&#x27;model&#x27;, SVC(random_state=32))])</pre><b>In a Jupyter environment, please rerun this cell to show the HTML representation or trust the notebook. <br />On GitHub, the HTML representation is unable to render, please try loading this page with nbviewer.org.</b></div><div class=\"sk-container\" hidden><div class=\"sk-item sk-dashed-wrapped\"><div class=\"sk-label-container\"><div class=\"sk-label sk-toggleable\"><input class=\"sk-toggleable__control sk-hidden--visually\" id=\"sk-estimator-id-43\" type=\"checkbox\" ><label for=\"sk-estimator-id-43\" class=\"sk-toggleable__label sk-toggleable__label-arrow\">Pipeline</label><div class=\"sk-toggleable__content\"><pre>Pipeline(steps=[(&#x27;preprocessor&#x27;,\n",
              "                 ColumnTransformer(transformers=[(&#x27;num&#x27;, StandardScaler(),\n",
              "                                                  Index([&#x27;tenure&#x27;, &#x27;MonthlyCharges&#x27;], dtype=&#x27;object&#x27;)),\n",
              "                                                 (&#x27;cat&#x27;,\n",
              "                                                  OneHotEncoder(drop=&#x27;first&#x27;),\n",
              "                                                  Index([&#x27;Dependents&#x27;, &#x27;OnlineSecurity&#x27;, &#x27;OnlineBackup&#x27;, &#x27;InternetService&#x27;,\n",
              "       &#x27;DeviceProtection&#x27;, &#x27;TechSupport&#x27;, &#x27;Contract&#x27;, &#x27;PaperlessBilling&#x27;],\n",
              "      dtype=&#x27;object&#x27;))])),\n",
              "                (&#x27;model&#x27;, SVC(random_state=32))])</pre></div></div></div><div class=\"sk-serial\"><div class=\"sk-item sk-dashed-wrapped\"><div class=\"sk-label-container\"><div class=\"sk-label sk-toggleable\"><input class=\"sk-toggleable__control sk-hidden--visually\" id=\"sk-estimator-id-44\" type=\"checkbox\" ><label for=\"sk-estimator-id-44\" class=\"sk-toggleable__label sk-toggleable__label-arrow\">preprocessor: ColumnTransformer</label><div class=\"sk-toggleable__content\"><pre>ColumnTransformer(transformers=[(&#x27;num&#x27;, StandardScaler(),\n",
              "                                 Index([&#x27;tenure&#x27;, &#x27;MonthlyCharges&#x27;], dtype=&#x27;object&#x27;)),\n",
              "                                (&#x27;cat&#x27;, OneHotEncoder(drop=&#x27;first&#x27;),\n",
              "                                 Index([&#x27;Dependents&#x27;, &#x27;OnlineSecurity&#x27;, &#x27;OnlineBackup&#x27;, &#x27;InternetService&#x27;,\n",
              "       &#x27;DeviceProtection&#x27;, &#x27;TechSupport&#x27;, &#x27;Contract&#x27;, &#x27;PaperlessBilling&#x27;],\n",
              "      dtype=&#x27;object&#x27;))])</pre></div></div></div><div class=\"sk-parallel\"><div class=\"sk-parallel-item\"><div class=\"sk-item\"><div class=\"sk-label-container\"><div class=\"sk-label sk-toggleable\"><input class=\"sk-toggleable__control sk-hidden--visually\" id=\"sk-estimator-id-45\" type=\"checkbox\" ><label for=\"sk-estimator-id-45\" class=\"sk-toggleable__label sk-toggleable__label-arrow\">num</label><div class=\"sk-toggleable__content\"><pre>Index([&#x27;tenure&#x27;, &#x27;MonthlyCharges&#x27;], dtype=&#x27;object&#x27;)</pre></div></div></div><div class=\"sk-serial\"><div class=\"sk-item\"><div class=\"sk-estimator sk-toggleable\"><input class=\"sk-toggleable__control sk-hidden--visually\" id=\"sk-estimator-id-46\" type=\"checkbox\" ><label for=\"sk-estimator-id-46\" class=\"sk-toggleable__label sk-toggleable__label-arrow\">StandardScaler</label><div class=\"sk-toggleable__content\"><pre>StandardScaler()</pre></div></div></div></div></div></div><div class=\"sk-parallel-item\"><div class=\"sk-item\"><div class=\"sk-label-container\"><div class=\"sk-label sk-toggleable\"><input class=\"sk-toggleable__control sk-hidden--visually\" id=\"sk-estimator-id-47\" type=\"checkbox\" ><label for=\"sk-estimator-id-47\" class=\"sk-toggleable__label sk-toggleable__label-arrow\">cat</label><div class=\"sk-toggleable__content\"><pre>Index([&#x27;Dependents&#x27;, &#x27;OnlineSecurity&#x27;, &#x27;OnlineBackup&#x27;, &#x27;InternetService&#x27;,\n",
              "       &#x27;DeviceProtection&#x27;, &#x27;TechSupport&#x27;, &#x27;Contract&#x27;, &#x27;PaperlessBilling&#x27;],\n",
              "      dtype=&#x27;object&#x27;)</pre></div></div></div><div class=\"sk-serial\"><div class=\"sk-item\"><div class=\"sk-estimator sk-toggleable\"><input class=\"sk-toggleable__control sk-hidden--visually\" id=\"sk-estimator-id-48\" type=\"checkbox\" ><label for=\"sk-estimator-id-48\" class=\"sk-toggleable__label sk-toggleable__label-arrow\">OneHotEncoder</label><div class=\"sk-toggleable__content\"><pre>OneHotEncoder(drop=&#x27;first&#x27;)</pre></div></div></div></div></div></div></div></div><div class=\"sk-item\"><div class=\"sk-estimator sk-toggleable\"><input class=\"sk-toggleable__control sk-hidden--visually\" id=\"sk-estimator-id-49\" type=\"checkbox\" ><label for=\"sk-estimator-id-49\" class=\"sk-toggleable__label sk-toggleable__label-arrow\">SVC</label><div class=\"sk-toggleable__content\"><pre>SVC(random_state=32)</pre></div></div></div></div></div></div></div>"
            ]
          },
          "metadata": {},
          "execution_count": 108
        }
      ]
    },
    {
      "cell_type": "markdown",
      "source": [
        "**Pada bagian ini dilakukan evaluasi model, prosesnya sebagai berikut:**\n",
        "\n",
        "**1. Menggunakan cross validation sebanyak 5 fold dan menampilkan hasil dari cross validation beserta rata-rata keseluruhannya**\n",
        "\n",
        "**2. Model digunakan untuk membuat prediksi pada data test (X_test), akurasi dari model dikalkulasi dengan metrik akurasi**\n",
        "\n",
        "**3. Hasil akurasi, confusion matrix, classification report ditampilkan untuk memberikan gambaran kinerja dalam mengklasifikasikan data test**"
      ],
      "metadata": {
        "id": "fWMaw9wkSnym"
      }
    },
    {
      "cell_type": "code",
      "source": [
        "# Gunakan validasi silang (cross-validation) untuk mengevaluasi model\n",
        "cross_val_scores = cross_val_score(pipeline, X, y, cv=5, scoring='accuracy')\n",
        "print(\"Cross-Validation Scores:\", cross_val_scores)\n",
        "print(\"Rata-rata Cross-Validation Score:\", cross_val_scores.mean())\n",
        "\n",
        "# Buat prediksi dengan pipeline pada data test\n",
        "predictions = pipeline.predict(X_test)\n",
        "\n",
        "accuracy = accuracy_score(y_test, predictions)\n",
        "print(\"Support Vector Classifier (SVC) Akurasi:\", accuracy)\n",
        "\n",
        "confusion = confusion_matrix(y_test, predictions)\n",
        "print(\"Confusion Matrix:\")\n",
        "print(confusion)\n",
        "\n",
        "classification_rep = classification_report(y_test, predictions)\n",
        "print(\"Classification Report:\")\n",
        "print(classification_rep)"
      ],
      "metadata": {
        "colab": {
          "base_uri": "https://localhost:8080/"
        },
        "id": "oSy0GRiuK8Z3",
        "outputId": "d0cd9c67-9e47-47d4-9aef-783f82519717"
      },
      "execution_count": 109,
      "outputs": [
        {
          "output_type": "stream",
          "name": "stdout",
          "text": [
            "Cross-Validation Scores: [0.79817444 0.79208925 0.80121704 0.78093306 0.80730223]\n",
            "Rata-rata Cross-Validation Score: 0.7959432048681542\n",
            "Support Vector Classifier (SVC) Akurasi: 0.7915652879156528\n",
            "Confusion Matrix:\n",
            "[[820  78]\n",
            " [179 156]]\n",
            "Classification Report:\n",
            "              precision    recall  f1-score   support\n",
            "\n",
            "          No       0.82      0.91      0.86       898\n",
            "         Yes       0.67      0.47      0.55       335\n",
            "\n",
            "    accuracy                           0.79      1233\n",
            "   macro avg       0.74      0.69      0.71      1233\n",
            "weighted avg       0.78      0.79      0.78      1233\n",
            "\n"
          ]
        }
      ]
    },
    {
      "cell_type": "code",
      "source": [
        "# Menghitung ChurnHasilConfusion berdasarkan confusion matrix\n",
        "df['ChurnHasilConfusion'] = ''\n",
        "\n",
        "for i in range(len(X_test)):\n",
        "    if y_test.values[i] == 'Yes' and predictions[i] == 'Yes':\n",
        "        df.loc[y_test.index[i], 'ChurnHasilConfusion'] = 'TP'\n",
        "    elif y_test.values[i] == 'No' and predictions[i] == 'No':\n",
        "        df.loc[y_test.index[i], 'ChurnHasilConfusion'] = 'TN'\n",
        "    elif y_test.values[i] == 'No' and predictions[i] == 'Yes':\n",
        "        df.loc[y_test.index[i], 'ChurnHasilConfusion'] = 'FP'\n",
        "    elif y_test.values[i] == 'Yes' and predictions[i] == 'No':\n",
        "        df.loc[y_test.index[i], 'ChurnHasilConfusion'] = 'FN'\n",
        "\n",
        "# Filter hanya baris yang memiliki nilai 'TP', 'TN', 'FP', atau 'FN' pada kolom 'ChurnHasilConfusion'\n",
        "filtered_df = df[df['ChurnHasilConfusion'].isin(['TP', 'TN', 'FP', 'FN'])]\n",
        "\n",
        "# Membuat kolom 'ChurnPredicted' berdasarkan 'ChurnHasilConfusion'\n",
        "filtered_df['ChurnPredicted'] = filtered_df['ChurnHasilConfusion'].apply(\n",
        "    lambda x: 'Yes' if x in ['TP', 'FP'] else 'No' if x in ['TN', 'FN'] else ''\n",
        ")\n",
        "\n",
        "filtered_df"
      ],
      "metadata": {
        "colab": {
          "base_uri": "https://localhost:8080/",
          "height": 687
        },
        "id": "WkkmS2GdFKtN",
        "outputId": "d701115d-0dd7-481d-ed95-42d6e61986c5"
      },
      "execution_count": 110,
      "outputs": [
        {
          "output_type": "stream",
          "name": "stderr",
          "text": [
            "<ipython-input-110-d1de131e9a12>:18: SettingWithCopyWarning: \n",
            "A value is trying to be set on a copy of a slice from a DataFrame.\n",
            "Try using .loc[row_indexer,col_indexer] = value instead\n",
            "\n",
            "See the caveats in the documentation: https://pandas.pydata.org/pandas-docs/stable/user_guide/indexing.html#returning-a-view-versus-a-copy\n",
            "  filtered_df['ChurnPredicted'] = filtered_df['ChurnHasilConfusion'].apply(\n"
          ]
        },
        {
          "output_type": "execute_result",
          "data": {
            "text/plain": [
              "     Dependents  tenure       OnlineSecurity         OnlineBackup  \\\n",
              "2            No      64                  Yes                   No   \n",
              "8            No       8                   No                   No   \n",
              "13           No       1                   No                   No   \n",
              "22          Yes      34  No internet service  No internet service   \n",
              "25          Yes      40                   No                   No   \n",
              "...         ...     ...                  ...                  ...   \n",
              "4917         No      68                  Yes                  Yes   \n",
              "4918         No      10  No internet service  No internet service   \n",
              "4925         No      15                   No                   No   \n",
              "4927         No      58  No internet service  No internet service   \n",
              "4928         No       1                   No                   No   \n",
              "\n",
              "     InternetService     DeviceProtection          TechSupport  \\\n",
              "2                DSL                  Yes                  Yes   \n",
              "8        Fiber optic                   No                   No   \n",
              "13               DSL                   No                  Yes   \n",
              "22                No  No internet service  No internet service   \n",
              "25       Fiber optic                  Yes                   No   \n",
              "...              ...                  ...                  ...   \n",
              "4917     Fiber optic                  Yes                   No   \n",
              "4918              No  No internet service  No internet service   \n",
              "4925     Fiber optic                  Yes                  Yes   \n",
              "4927              No  No internet service  No internet service   \n",
              "4928     Fiber optic                   No                   No   \n",
              "\n",
              "            Contract PaperlessBilling  MonthlyCharges Churn  \\\n",
              "2           Two year               No           47.85   Yes   \n",
              "8     Month-to-month              Yes           73.50    No   \n",
              "13    Month-to-month               No           30.55    No   \n",
              "22    Month-to-month               No           20.65    No   \n",
              "25    Month-to-month              Yes           81.20    No   \n",
              "...              ...              ...             ...   ...   \n",
              "4917        One year               No          101.35    No   \n",
              "4918  Month-to-month              Yes           24.00    No   \n",
              "4925  Month-to-month              Yes          103.45    No   \n",
              "4927        Two year               No           20.75    No   \n",
              "4928  Month-to-month              Yes           69.75   Yes   \n",
              "\n",
              "     ChurnHasilConfusion ChurnPredicted  \n",
              "2                     FN             No  \n",
              "8                     FP            Yes  \n",
              "13                    TN             No  \n",
              "22                    TN             No  \n",
              "25                    TN             No  \n",
              "...                  ...            ...  \n",
              "4917                  TN             No  \n",
              "4918                  TN             No  \n",
              "4925                  FP            Yes  \n",
              "4927                  TN             No  \n",
              "4928                  TP            Yes  \n",
              "\n",
              "[1233 rows x 13 columns]"
            ],
            "text/html": [
              "\n",
              "  <div id=\"df-bea34db6-c598-44f7-9920-a4e13a04fb98\" class=\"colab-df-container\">\n",
              "    <div>\n",
              "<style scoped>\n",
              "    .dataframe tbody tr th:only-of-type {\n",
              "        vertical-align: middle;\n",
              "    }\n",
              "\n",
              "    .dataframe tbody tr th {\n",
              "        vertical-align: top;\n",
              "    }\n",
              "\n",
              "    .dataframe thead th {\n",
              "        text-align: right;\n",
              "    }\n",
              "</style>\n",
              "<table border=\"1\" class=\"dataframe\">\n",
              "  <thead>\n",
              "    <tr style=\"text-align: right;\">\n",
              "      <th></th>\n",
              "      <th>Dependents</th>\n",
              "      <th>tenure</th>\n",
              "      <th>OnlineSecurity</th>\n",
              "      <th>OnlineBackup</th>\n",
              "      <th>InternetService</th>\n",
              "      <th>DeviceProtection</th>\n",
              "      <th>TechSupport</th>\n",
              "      <th>Contract</th>\n",
              "      <th>PaperlessBilling</th>\n",
              "      <th>MonthlyCharges</th>\n",
              "      <th>Churn</th>\n",
              "      <th>ChurnHasilConfusion</th>\n",
              "      <th>ChurnPredicted</th>\n",
              "    </tr>\n",
              "  </thead>\n",
              "  <tbody>\n",
              "    <tr>\n",
              "      <th>2</th>\n",
              "      <td>No</td>\n",
              "      <td>64</td>\n",
              "      <td>Yes</td>\n",
              "      <td>No</td>\n",
              "      <td>DSL</td>\n",
              "      <td>Yes</td>\n",
              "      <td>Yes</td>\n",
              "      <td>Two year</td>\n",
              "      <td>No</td>\n",
              "      <td>47.85</td>\n",
              "      <td>Yes</td>\n",
              "      <td>FN</td>\n",
              "      <td>No</td>\n",
              "    </tr>\n",
              "    <tr>\n",
              "      <th>8</th>\n",
              "      <td>No</td>\n",
              "      <td>8</td>\n",
              "      <td>No</td>\n",
              "      <td>No</td>\n",
              "      <td>Fiber optic</td>\n",
              "      <td>No</td>\n",
              "      <td>No</td>\n",
              "      <td>Month-to-month</td>\n",
              "      <td>Yes</td>\n",
              "      <td>73.50</td>\n",
              "      <td>No</td>\n",
              "      <td>FP</td>\n",
              "      <td>Yes</td>\n",
              "    </tr>\n",
              "    <tr>\n",
              "      <th>13</th>\n",
              "      <td>No</td>\n",
              "      <td>1</td>\n",
              "      <td>No</td>\n",
              "      <td>No</td>\n",
              "      <td>DSL</td>\n",
              "      <td>No</td>\n",
              "      <td>Yes</td>\n",
              "      <td>Month-to-month</td>\n",
              "      <td>No</td>\n",
              "      <td>30.55</td>\n",
              "      <td>No</td>\n",
              "      <td>TN</td>\n",
              "      <td>No</td>\n",
              "    </tr>\n",
              "    <tr>\n",
              "      <th>22</th>\n",
              "      <td>Yes</td>\n",
              "      <td>34</td>\n",
              "      <td>No internet service</td>\n",
              "      <td>No internet service</td>\n",
              "      <td>No</td>\n",
              "      <td>No internet service</td>\n",
              "      <td>No internet service</td>\n",
              "      <td>Month-to-month</td>\n",
              "      <td>No</td>\n",
              "      <td>20.65</td>\n",
              "      <td>No</td>\n",
              "      <td>TN</td>\n",
              "      <td>No</td>\n",
              "    </tr>\n",
              "    <tr>\n",
              "      <th>25</th>\n",
              "      <td>Yes</td>\n",
              "      <td>40</td>\n",
              "      <td>No</td>\n",
              "      <td>No</td>\n",
              "      <td>Fiber optic</td>\n",
              "      <td>Yes</td>\n",
              "      <td>No</td>\n",
              "      <td>Month-to-month</td>\n",
              "      <td>Yes</td>\n",
              "      <td>81.20</td>\n",
              "      <td>No</td>\n",
              "      <td>TN</td>\n",
              "      <td>No</td>\n",
              "    </tr>\n",
              "    <tr>\n",
              "      <th>...</th>\n",
              "      <td>...</td>\n",
              "      <td>...</td>\n",
              "      <td>...</td>\n",
              "      <td>...</td>\n",
              "      <td>...</td>\n",
              "      <td>...</td>\n",
              "      <td>...</td>\n",
              "      <td>...</td>\n",
              "      <td>...</td>\n",
              "      <td>...</td>\n",
              "      <td>...</td>\n",
              "      <td>...</td>\n",
              "      <td>...</td>\n",
              "    </tr>\n",
              "    <tr>\n",
              "      <th>4917</th>\n",
              "      <td>No</td>\n",
              "      <td>68</td>\n",
              "      <td>Yes</td>\n",
              "      <td>Yes</td>\n",
              "      <td>Fiber optic</td>\n",
              "      <td>Yes</td>\n",
              "      <td>No</td>\n",
              "      <td>One year</td>\n",
              "      <td>No</td>\n",
              "      <td>101.35</td>\n",
              "      <td>No</td>\n",
              "      <td>TN</td>\n",
              "      <td>No</td>\n",
              "    </tr>\n",
              "    <tr>\n",
              "      <th>4918</th>\n",
              "      <td>No</td>\n",
              "      <td>10</td>\n",
              "      <td>No internet service</td>\n",
              "      <td>No internet service</td>\n",
              "      <td>No</td>\n",
              "      <td>No internet service</td>\n",
              "      <td>No internet service</td>\n",
              "      <td>Month-to-month</td>\n",
              "      <td>Yes</td>\n",
              "      <td>24.00</td>\n",
              "      <td>No</td>\n",
              "      <td>TN</td>\n",
              "      <td>No</td>\n",
              "    </tr>\n",
              "    <tr>\n",
              "      <th>4925</th>\n",
              "      <td>No</td>\n",
              "      <td>15</td>\n",
              "      <td>No</td>\n",
              "      <td>No</td>\n",
              "      <td>Fiber optic</td>\n",
              "      <td>Yes</td>\n",
              "      <td>Yes</td>\n",
              "      <td>Month-to-month</td>\n",
              "      <td>Yes</td>\n",
              "      <td>103.45</td>\n",
              "      <td>No</td>\n",
              "      <td>FP</td>\n",
              "      <td>Yes</td>\n",
              "    </tr>\n",
              "    <tr>\n",
              "      <th>4927</th>\n",
              "      <td>No</td>\n",
              "      <td>58</td>\n",
              "      <td>No internet service</td>\n",
              "      <td>No internet service</td>\n",
              "      <td>No</td>\n",
              "      <td>No internet service</td>\n",
              "      <td>No internet service</td>\n",
              "      <td>Two year</td>\n",
              "      <td>No</td>\n",
              "      <td>20.75</td>\n",
              "      <td>No</td>\n",
              "      <td>TN</td>\n",
              "      <td>No</td>\n",
              "    </tr>\n",
              "    <tr>\n",
              "      <th>4928</th>\n",
              "      <td>No</td>\n",
              "      <td>1</td>\n",
              "      <td>No</td>\n",
              "      <td>No</td>\n",
              "      <td>Fiber optic</td>\n",
              "      <td>No</td>\n",
              "      <td>No</td>\n",
              "      <td>Month-to-month</td>\n",
              "      <td>Yes</td>\n",
              "      <td>69.75</td>\n",
              "      <td>Yes</td>\n",
              "      <td>TP</td>\n",
              "      <td>Yes</td>\n",
              "    </tr>\n",
              "  </tbody>\n",
              "</table>\n",
              "<p>1233 rows × 13 columns</p>\n",
              "</div>\n",
              "    <div class=\"colab-df-buttons\">\n",
              "\n",
              "  <div class=\"colab-df-container\">\n",
              "    <button class=\"colab-df-convert\" onclick=\"convertToInteractive('df-bea34db6-c598-44f7-9920-a4e13a04fb98')\"\n",
              "            title=\"Convert this dataframe to an interactive table.\"\n",
              "            style=\"display:none;\">\n",
              "\n",
              "  <svg xmlns=\"http://www.w3.org/2000/svg\" height=\"24px\" viewBox=\"0 -960 960 960\">\n",
              "    <path d=\"M120-120v-720h720v720H120Zm60-500h600v-160H180v160Zm220 220h160v-160H400v160Zm0 220h160v-160H400v160ZM180-400h160v-160H180v160Zm440 0h160v-160H620v160ZM180-180h160v-160H180v160Zm440 0h160v-160H620v160Z\"/>\n",
              "  </svg>\n",
              "    </button>\n",
              "\n",
              "  <style>\n",
              "    .colab-df-container {\n",
              "      display:flex;\n",
              "      gap: 12px;\n",
              "    }\n",
              "\n",
              "    .colab-df-convert {\n",
              "      background-color: #E8F0FE;\n",
              "      border: none;\n",
              "      border-radius: 50%;\n",
              "      cursor: pointer;\n",
              "      display: none;\n",
              "      fill: #1967D2;\n",
              "      height: 32px;\n",
              "      padding: 0 0 0 0;\n",
              "      width: 32px;\n",
              "    }\n",
              "\n",
              "    .colab-df-convert:hover {\n",
              "      background-color: #E2EBFA;\n",
              "      box-shadow: 0px 1px 2px rgba(60, 64, 67, 0.3), 0px 1px 3px 1px rgba(60, 64, 67, 0.15);\n",
              "      fill: #174EA6;\n",
              "    }\n",
              "\n",
              "    .colab-df-buttons div {\n",
              "      margin-bottom: 4px;\n",
              "    }\n",
              "\n",
              "    [theme=dark] .colab-df-convert {\n",
              "      background-color: #3B4455;\n",
              "      fill: #D2E3FC;\n",
              "    }\n",
              "\n",
              "    [theme=dark] .colab-df-convert:hover {\n",
              "      background-color: #434B5C;\n",
              "      box-shadow: 0px 1px 3px 1px rgba(0, 0, 0, 0.15);\n",
              "      filter: drop-shadow(0px 1px 2px rgba(0, 0, 0, 0.3));\n",
              "      fill: #FFFFFF;\n",
              "    }\n",
              "  </style>\n",
              "\n",
              "    <script>\n",
              "      const buttonEl =\n",
              "        document.querySelector('#df-bea34db6-c598-44f7-9920-a4e13a04fb98 button.colab-df-convert');\n",
              "      buttonEl.style.display =\n",
              "        google.colab.kernel.accessAllowed ? 'block' : 'none';\n",
              "\n",
              "      async function convertToInteractive(key) {\n",
              "        const element = document.querySelector('#df-bea34db6-c598-44f7-9920-a4e13a04fb98');\n",
              "        const dataTable =\n",
              "          await google.colab.kernel.invokeFunction('convertToInteractive',\n",
              "                                                    [key], {});\n",
              "        if (!dataTable) return;\n",
              "\n",
              "        const docLinkHtml = 'Like what you see? Visit the ' +\n",
              "          '<a target=\"_blank\" href=https://colab.research.google.com/notebooks/data_table.ipynb>data table notebook</a>'\n",
              "          + ' to learn more about interactive tables.';\n",
              "        element.innerHTML = '';\n",
              "        dataTable['output_type'] = 'display_data';\n",
              "        await google.colab.output.renderOutput(dataTable, element);\n",
              "        const docLink = document.createElement('div');\n",
              "        docLink.innerHTML = docLinkHtml;\n",
              "        element.appendChild(docLink);\n",
              "      }\n",
              "    </script>\n",
              "  </div>\n",
              "\n",
              "\n",
              "<div id=\"df-4de734d3-5a79-439a-b0d9-f69e03f6a1f3\">\n",
              "  <button class=\"colab-df-quickchart\" onclick=\"quickchart('df-4de734d3-5a79-439a-b0d9-f69e03f6a1f3')\"\n",
              "            title=\"Suggest charts.\"\n",
              "            style=\"display:none;\">\n",
              "\n",
              "<svg xmlns=\"http://www.w3.org/2000/svg\" height=\"24px\"viewBox=\"0 0 24 24\"\n",
              "     width=\"24px\">\n",
              "    <g>\n",
              "        <path d=\"M19 3H5c-1.1 0-2 .9-2 2v14c0 1.1.9 2 2 2h14c1.1 0 2-.9 2-2V5c0-1.1-.9-2-2-2zM9 17H7v-7h2v7zm4 0h-2V7h2v10zm4 0h-2v-4h2v4z\"/>\n",
              "    </g>\n",
              "</svg>\n",
              "  </button>\n",
              "\n",
              "<style>\n",
              "  .colab-df-quickchart {\n",
              "      --bg-color: #E8F0FE;\n",
              "      --fill-color: #1967D2;\n",
              "      --hover-bg-color: #E2EBFA;\n",
              "      --hover-fill-color: #174EA6;\n",
              "      --disabled-fill-color: #AAA;\n",
              "      --disabled-bg-color: #DDD;\n",
              "  }\n",
              "\n",
              "  [theme=dark] .colab-df-quickchart {\n",
              "      --bg-color: #3B4455;\n",
              "      --fill-color: #D2E3FC;\n",
              "      --hover-bg-color: #434B5C;\n",
              "      --hover-fill-color: #FFFFFF;\n",
              "      --disabled-bg-color: #3B4455;\n",
              "      --disabled-fill-color: #666;\n",
              "  }\n",
              "\n",
              "  .colab-df-quickchart {\n",
              "    background-color: var(--bg-color);\n",
              "    border: none;\n",
              "    border-radius: 50%;\n",
              "    cursor: pointer;\n",
              "    display: none;\n",
              "    fill: var(--fill-color);\n",
              "    height: 32px;\n",
              "    padding: 0;\n",
              "    width: 32px;\n",
              "  }\n",
              "\n",
              "  .colab-df-quickchart:hover {\n",
              "    background-color: var(--hover-bg-color);\n",
              "    box-shadow: 0 1px 2px rgba(60, 64, 67, 0.3), 0 1px 3px 1px rgba(60, 64, 67, 0.15);\n",
              "    fill: var(--button-hover-fill-color);\n",
              "  }\n",
              "\n",
              "  .colab-df-quickchart-complete:disabled,\n",
              "  .colab-df-quickchart-complete:disabled:hover {\n",
              "    background-color: var(--disabled-bg-color);\n",
              "    fill: var(--disabled-fill-color);\n",
              "    box-shadow: none;\n",
              "  }\n",
              "\n",
              "  .colab-df-spinner {\n",
              "    border: 2px solid var(--fill-color);\n",
              "    border-color: transparent;\n",
              "    border-bottom-color: var(--fill-color);\n",
              "    animation:\n",
              "      spin 1s steps(1) infinite;\n",
              "  }\n",
              "\n",
              "  @keyframes spin {\n",
              "    0% {\n",
              "      border-color: transparent;\n",
              "      border-bottom-color: var(--fill-color);\n",
              "      border-left-color: var(--fill-color);\n",
              "    }\n",
              "    20% {\n",
              "      border-color: transparent;\n",
              "      border-left-color: var(--fill-color);\n",
              "      border-top-color: var(--fill-color);\n",
              "    }\n",
              "    30% {\n",
              "      border-color: transparent;\n",
              "      border-left-color: var(--fill-color);\n",
              "      border-top-color: var(--fill-color);\n",
              "      border-right-color: var(--fill-color);\n",
              "    }\n",
              "    40% {\n",
              "      border-color: transparent;\n",
              "      border-right-color: var(--fill-color);\n",
              "      border-top-color: var(--fill-color);\n",
              "    }\n",
              "    60% {\n",
              "      border-color: transparent;\n",
              "      border-right-color: var(--fill-color);\n",
              "    }\n",
              "    80% {\n",
              "      border-color: transparent;\n",
              "      border-right-color: var(--fill-color);\n",
              "      border-bottom-color: var(--fill-color);\n",
              "    }\n",
              "    90% {\n",
              "      border-color: transparent;\n",
              "      border-bottom-color: var(--fill-color);\n",
              "    }\n",
              "  }\n",
              "</style>\n",
              "\n",
              "  <script>\n",
              "    async function quickchart(key) {\n",
              "      const quickchartButtonEl =\n",
              "        document.querySelector('#' + key + ' button');\n",
              "      quickchartButtonEl.disabled = true;  // To prevent multiple clicks.\n",
              "      quickchartButtonEl.classList.add('colab-df-spinner');\n",
              "      try {\n",
              "        const charts = await google.colab.kernel.invokeFunction(\n",
              "            'suggestCharts', [key], {});\n",
              "      } catch (error) {\n",
              "        console.error('Error during call to suggestCharts:', error);\n",
              "      }\n",
              "      quickchartButtonEl.classList.remove('colab-df-spinner');\n",
              "      quickchartButtonEl.classList.add('colab-df-quickchart-complete');\n",
              "    }\n",
              "    (() => {\n",
              "      let quickchartButtonEl =\n",
              "        document.querySelector('#df-4de734d3-5a79-439a-b0d9-f69e03f6a1f3 button');\n",
              "      quickchartButtonEl.style.display =\n",
              "        google.colab.kernel.accessAllowed ? 'block' : 'none';\n",
              "    })();\n",
              "  </script>\n",
              "</div>\n",
              "    </div>\n",
              "  </div>\n"
            ]
          },
          "metadata": {},
          "execution_count": 110
        }
      ]
    },
    {
      "cell_type": "markdown",
      "source": [
        "**Persentase profit dari Churn yang belum diprediksi**"
      ],
      "metadata": {
        "id": "LtnjGO8vI0UV"
      }
    },
    {
      "cell_type": "code",
      "source": [
        "pendapatan_yes = filtered_df[filtered_df['Churn'] == 'Yes']['MonthlyCharges'].sum()\n",
        "pendapatan_no = filtered_df[filtered_df['Churn'] == 'No']['MonthlyCharges'].sum()\n",
        "\n",
        "total_pendapatan = filtered_df['MonthlyCharges'].sum()\n",
        "print(\"Pendapatan (harga per bulan) untuk 'Yes':\", pendapatan_yes)\n",
        "print(\"Pendapatan (harga per bulan) untuk 'No':\", pendapatan_no)\n",
        "\n",
        "profit_percentage = ((pendapatan_no - pendapatan_yes) / total_pendapatan) * 100\n",
        "print(\"Persentase Profit:\", profit_percentage)"
      ],
      "metadata": {
        "colab": {
          "base_uri": "https://localhost:8080/"
        },
        "id": "EWA-OIdlGwas",
        "outputId": "c913c2be-52ec-4dd6-fa7a-68dff2113dbf"
      },
      "execution_count": 111,
      "outputs": [
        {
          "output_type": "stream",
          "name": "stdout",
          "text": [
            "Pendapatan (harga per bulan) untuk 'Yes': 25667.699999999997\n",
            "Pendapatan (harga per bulan) untuk 'No': 56216.799999999996\n",
            "Persentase Profit: 37.307549047744075\n"
          ]
        }
      ]
    },
    {
      "cell_type": "markdown",
      "source": [
        "**Persentase profit dari Churn yang telah diprediksi dengan Model SVC**"
      ],
      "metadata": {
        "id": "i1M9EQaFJAmC"
      }
    },
    {
      "cell_type": "code",
      "source": [
        "pendapatan_yes = filtered_df[filtered_df['ChurnPredicted'] == 'Yes']['MonthlyCharges'].sum()\n",
        "pendapatan_no = filtered_df[filtered_df['ChurnPredicted'] == 'No']['MonthlyCharges'].sum()\n",
        "\n",
        "total_pendapatan = filtered_df['MonthlyCharges'].sum()\n",
        "print(\"Pendapatan (harga per bulan) untuk 'Yes':\", pendapatan_yes)\n",
        "print(\"Pendapatan (harga per bulan) untuk 'No':\", pendapatan_no)\n",
        "\n",
        "profit_percentage = ((pendapatan_no - pendapatan_yes) / total_pendapatan) * 100\n",
        "print(\"Persentase Profit:\", profit_percentage)"
      ],
      "metadata": {
        "colab": {
          "base_uri": "https://localhost:8080/"
        },
        "id": "vojbYwsdGzS4",
        "outputId": "1b9ffa55-86e7-4f52-f53a-7799bad5ce5c"
      },
      "execution_count": 112,
      "outputs": [
        {
          "output_type": "stream",
          "name": "stdout",
          "text": [
            "Pendapatan (harga per bulan) untuk 'Yes': 19298.399999999998\n",
            "Pendapatan (harga per bulan) untuk 'No': 62586.100000000006\n",
            "Persentase Profit: 52.86433940489349\n"
          ]
        }
      ]
    },
    {
      "cell_type": "markdown",
      "source": [
        "**Hasil dari Pemodelan dengan SVC**\n",
        "\n",
        "**Cross Validation Scores masing masing hasilnya adalah [0.79817444 0.79208925 0.80121704 0.78093306 0.80730223] dan rata-rata keseluruhan 0.796 berdasarkan 5 iterasi.**\n",
        "\n",
        "**Akurasi SVC sebesar 0.792, hal ini berarti model memprediksi dengan benar sekitar 79.2% data test**\n",
        "\n",
        "**Confusion Matrix untuk memberikan gambaran sejauh mana model berhasil memprediksi kelas Yes dan No. Hasil dari confusion matrix dapat dijabarkan sebagai berikut:**\n",
        "\n",
        "**True Positive = 156, yaitu jumlah label \"Yes\" yang benar-benar diprediksi sebagai \"Yes\"**\n",
        "\n",
        "**True Negative = 820, yaitu jumlah label \"No\" yang benar-benar diprediksi sebagai \"No\"**\n",
        "\n",
        "**False Positive = 78, yaitu jumlah label \"No\" yang salah diprediksi sebagai \"Yes\"**\n",
        "\n",
        "**False Negative = 179, yaitu jumlah label \"Yes\" yang salah diprediksi sebagai \"No\"**\n",
        "\n",
        "**Classification Report untuk menampilkan informasi rinci kinerja model, dalam informasi ini terdapat precision, recall, dan f1-score untuk masing-masing kelas dan rata-rata setiap metrik. Pada hasil di atas, untuk kelas 'No', Precision sekitar 0.82, Recall 0.91, dan F1-Score 0.86. Hal ini menunjukkan model cukup baik dalam memprediksi kelas 'No'. Untuk kelas 'Yes', Precision lebih rendah yaitu sekitar 0.67, recall 0.47, dan F1-Score 0.55, yang berarti kinerja lebih buruk dalam memprediksi kelas 'Yes'**"
      ],
      "metadata": {
        "id": "jDPBtqbuT7-c"
      }
    },
    {
      "cell_type": "markdown",
      "source": [
        "# **Pemodelan dengan Random Forest Classifier**"
      ],
      "metadata": {
        "id": "aXCTwRMdLgc5"
      }
    },
    {
      "cell_type": "markdown",
      "source": [
        "**Pada bagian ini digunakan 'ColumnTransformer' untuk penggabungan 2 jenis transformasi pada data:**\n",
        "\n",
        "**1. StandarScaler untuk variabel numerik(scaling)**\n",
        "\n",
        "**2. OneHotEncoder untuk variabel kategorikal(one hot encoding)**\n",
        "\n",
        "**selanjutnya dibuat sebuah pipeline untuk menggabungkan preprocessor dan model Random Forest Classifier untuk melatih model. Kemudian model dilatih pada data train (X_train dan y_train)**"
      ],
      "metadata": {
        "id": "7SvXz3ocWZn9"
      }
    },
    {
      "cell_type": "code",
      "source": [
        "# ColumnTransformer untuk menggabungkan transformer\n",
        "preprocessor = ColumnTransformer(\n",
        "    transformers=[\n",
        "        ('num', StandardScaler(), numerical_cols),  # Scaling untuk variabel numerik\n",
        "        ('cat', OneHotEncoder(drop='first'), categorical_cols)  # One hot encoding variabel kategorikal\n",
        "    ])\n",
        "\n",
        "# Buat pipeline dengan preprocessor dan model RandomForestClassifier\n",
        "pipeline = Pipeline([\n",
        "    ('preprocessor', preprocessor),\n",
        "    ('model', RandomForestClassifier(random_state=32))\n",
        "])\n",
        "\n",
        "# Latih model dengan pipeline\n",
        "pipeline.fit(X_train, y_train)"
      ],
      "metadata": {
        "colab": {
          "base_uri": "https://localhost:8080/",
          "height": 194
        },
        "id": "cbQuod1ILsWv",
        "outputId": "ef72d8a7-f390-48c9-d23b-00d7a08ca542"
      },
      "execution_count": 113,
      "outputs": [
        {
          "output_type": "execute_result",
          "data": {
            "text/plain": [
              "Pipeline(steps=[('preprocessor',\n",
              "                 ColumnTransformer(transformers=[('num', StandardScaler(),\n",
              "                                                  Index(['tenure', 'MonthlyCharges'], dtype='object')),\n",
              "                                                 ('cat',\n",
              "                                                  OneHotEncoder(drop='first'),\n",
              "                                                  Index(['Dependents', 'OnlineSecurity', 'OnlineBackup', 'InternetService',\n",
              "       'DeviceProtection', 'TechSupport', 'Contract', 'PaperlessBilling'],\n",
              "      dtype='object'))])),\n",
              "                ('model', RandomForestClassifier(random_state=32))])"
            ],
            "text/html": [
              "<style>#sk-container-id-8 {color: black;background-color: white;}#sk-container-id-8 pre{padding: 0;}#sk-container-id-8 div.sk-toggleable {background-color: white;}#sk-container-id-8 label.sk-toggleable__label {cursor: pointer;display: block;width: 100%;margin-bottom: 0;padding: 0.3em;box-sizing: border-box;text-align: center;}#sk-container-id-8 label.sk-toggleable__label-arrow:before {content: \"▸\";float: left;margin-right: 0.25em;color: #696969;}#sk-container-id-8 label.sk-toggleable__label-arrow:hover:before {color: black;}#sk-container-id-8 div.sk-estimator:hover label.sk-toggleable__label-arrow:before {color: black;}#sk-container-id-8 div.sk-toggleable__content {max-height: 0;max-width: 0;overflow: hidden;text-align: left;background-color: #f0f8ff;}#sk-container-id-8 div.sk-toggleable__content pre {margin: 0.2em;color: black;border-radius: 0.25em;background-color: #f0f8ff;}#sk-container-id-8 input.sk-toggleable__control:checked~div.sk-toggleable__content {max-height: 200px;max-width: 100%;overflow: auto;}#sk-container-id-8 input.sk-toggleable__control:checked~label.sk-toggleable__label-arrow:before {content: \"▾\";}#sk-container-id-8 div.sk-estimator input.sk-toggleable__control:checked~label.sk-toggleable__label {background-color: #d4ebff;}#sk-container-id-8 div.sk-label input.sk-toggleable__control:checked~label.sk-toggleable__label {background-color: #d4ebff;}#sk-container-id-8 input.sk-hidden--visually {border: 0;clip: rect(1px 1px 1px 1px);clip: rect(1px, 1px, 1px, 1px);height: 1px;margin: -1px;overflow: hidden;padding: 0;position: absolute;width: 1px;}#sk-container-id-8 div.sk-estimator {font-family: monospace;background-color: #f0f8ff;border: 1px dotted black;border-radius: 0.25em;box-sizing: border-box;margin-bottom: 0.5em;}#sk-container-id-8 div.sk-estimator:hover {background-color: #d4ebff;}#sk-container-id-8 div.sk-parallel-item::after {content: \"\";width: 100%;border-bottom: 1px solid gray;flex-grow: 1;}#sk-container-id-8 div.sk-label:hover label.sk-toggleable__label {background-color: #d4ebff;}#sk-container-id-8 div.sk-serial::before {content: \"\";position: absolute;border-left: 1px solid gray;box-sizing: border-box;top: 0;bottom: 0;left: 50%;z-index: 0;}#sk-container-id-8 div.sk-serial {display: flex;flex-direction: column;align-items: center;background-color: white;padding-right: 0.2em;padding-left: 0.2em;position: relative;}#sk-container-id-8 div.sk-item {position: relative;z-index: 1;}#sk-container-id-8 div.sk-parallel {display: flex;align-items: stretch;justify-content: center;background-color: white;position: relative;}#sk-container-id-8 div.sk-item::before, #sk-container-id-8 div.sk-parallel-item::before {content: \"\";position: absolute;border-left: 1px solid gray;box-sizing: border-box;top: 0;bottom: 0;left: 50%;z-index: -1;}#sk-container-id-8 div.sk-parallel-item {display: flex;flex-direction: column;z-index: 1;position: relative;background-color: white;}#sk-container-id-8 div.sk-parallel-item:first-child::after {align-self: flex-end;width: 50%;}#sk-container-id-8 div.sk-parallel-item:last-child::after {align-self: flex-start;width: 50%;}#sk-container-id-8 div.sk-parallel-item:only-child::after {width: 0;}#sk-container-id-8 div.sk-dashed-wrapped {border: 1px dashed gray;margin: 0 0.4em 0.5em 0.4em;box-sizing: border-box;padding-bottom: 0.4em;background-color: white;}#sk-container-id-8 div.sk-label label {font-family: monospace;font-weight: bold;display: inline-block;line-height: 1.2em;}#sk-container-id-8 div.sk-label-container {text-align: center;}#sk-container-id-8 div.sk-container {/* jupyter's `normalize.less` sets `[hidden] { display: none; }` but bootstrap.min.css set `[hidden] { display: none !important; }` so we also need the `!important` here to be able to override the default hidden behavior on the sphinx rendered scikit-learn.org. See: https://github.com/scikit-learn/scikit-learn/issues/21755 */display: inline-block !important;position: relative;}#sk-container-id-8 div.sk-text-repr-fallback {display: none;}</style><div id=\"sk-container-id-8\" class=\"sk-top-container\"><div class=\"sk-text-repr-fallback\"><pre>Pipeline(steps=[(&#x27;preprocessor&#x27;,\n",
              "                 ColumnTransformer(transformers=[(&#x27;num&#x27;, StandardScaler(),\n",
              "                                                  Index([&#x27;tenure&#x27;, &#x27;MonthlyCharges&#x27;], dtype=&#x27;object&#x27;)),\n",
              "                                                 (&#x27;cat&#x27;,\n",
              "                                                  OneHotEncoder(drop=&#x27;first&#x27;),\n",
              "                                                  Index([&#x27;Dependents&#x27;, &#x27;OnlineSecurity&#x27;, &#x27;OnlineBackup&#x27;, &#x27;InternetService&#x27;,\n",
              "       &#x27;DeviceProtection&#x27;, &#x27;TechSupport&#x27;, &#x27;Contract&#x27;, &#x27;PaperlessBilling&#x27;],\n",
              "      dtype=&#x27;object&#x27;))])),\n",
              "                (&#x27;model&#x27;, RandomForestClassifier(random_state=32))])</pre><b>In a Jupyter environment, please rerun this cell to show the HTML representation or trust the notebook. <br />On GitHub, the HTML representation is unable to render, please try loading this page with nbviewer.org.</b></div><div class=\"sk-container\" hidden><div class=\"sk-item sk-dashed-wrapped\"><div class=\"sk-label-container\"><div class=\"sk-label sk-toggleable\"><input class=\"sk-toggleable__control sk-hidden--visually\" id=\"sk-estimator-id-50\" type=\"checkbox\" ><label for=\"sk-estimator-id-50\" class=\"sk-toggleable__label sk-toggleable__label-arrow\">Pipeline</label><div class=\"sk-toggleable__content\"><pre>Pipeline(steps=[(&#x27;preprocessor&#x27;,\n",
              "                 ColumnTransformer(transformers=[(&#x27;num&#x27;, StandardScaler(),\n",
              "                                                  Index([&#x27;tenure&#x27;, &#x27;MonthlyCharges&#x27;], dtype=&#x27;object&#x27;)),\n",
              "                                                 (&#x27;cat&#x27;,\n",
              "                                                  OneHotEncoder(drop=&#x27;first&#x27;),\n",
              "                                                  Index([&#x27;Dependents&#x27;, &#x27;OnlineSecurity&#x27;, &#x27;OnlineBackup&#x27;, &#x27;InternetService&#x27;,\n",
              "       &#x27;DeviceProtection&#x27;, &#x27;TechSupport&#x27;, &#x27;Contract&#x27;, &#x27;PaperlessBilling&#x27;],\n",
              "      dtype=&#x27;object&#x27;))])),\n",
              "                (&#x27;model&#x27;, RandomForestClassifier(random_state=32))])</pre></div></div></div><div class=\"sk-serial\"><div class=\"sk-item sk-dashed-wrapped\"><div class=\"sk-label-container\"><div class=\"sk-label sk-toggleable\"><input class=\"sk-toggleable__control sk-hidden--visually\" id=\"sk-estimator-id-51\" type=\"checkbox\" ><label for=\"sk-estimator-id-51\" class=\"sk-toggleable__label sk-toggleable__label-arrow\">preprocessor: ColumnTransformer</label><div class=\"sk-toggleable__content\"><pre>ColumnTransformer(transformers=[(&#x27;num&#x27;, StandardScaler(),\n",
              "                                 Index([&#x27;tenure&#x27;, &#x27;MonthlyCharges&#x27;], dtype=&#x27;object&#x27;)),\n",
              "                                (&#x27;cat&#x27;, OneHotEncoder(drop=&#x27;first&#x27;),\n",
              "                                 Index([&#x27;Dependents&#x27;, &#x27;OnlineSecurity&#x27;, &#x27;OnlineBackup&#x27;, &#x27;InternetService&#x27;,\n",
              "       &#x27;DeviceProtection&#x27;, &#x27;TechSupport&#x27;, &#x27;Contract&#x27;, &#x27;PaperlessBilling&#x27;],\n",
              "      dtype=&#x27;object&#x27;))])</pre></div></div></div><div class=\"sk-parallel\"><div class=\"sk-parallel-item\"><div class=\"sk-item\"><div class=\"sk-label-container\"><div class=\"sk-label sk-toggleable\"><input class=\"sk-toggleable__control sk-hidden--visually\" id=\"sk-estimator-id-52\" type=\"checkbox\" ><label for=\"sk-estimator-id-52\" class=\"sk-toggleable__label sk-toggleable__label-arrow\">num</label><div class=\"sk-toggleable__content\"><pre>Index([&#x27;tenure&#x27;, &#x27;MonthlyCharges&#x27;], dtype=&#x27;object&#x27;)</pre></div></div></div><div class=\"sk-serial\"><div class=\"sk-item\"><div class=\"sk-estimator sk-toggleable\"><input class=\"sk-toggleable__control sk-hidden--visually\" id=\"sk-estimator-id-53\" type=\"checkbox\" ><label for=\"sk-estimator-id-53\" class=\"sk-toggleable__label sk-toggleable__label-arrow\">StandardScaler</label><div class=\"sk-toggleable__content\"><pre>StandardScaler()</pre></div></div></div></div></div></div><div class=\"sk-parallel-item\"><div class=\"sk-item\"><div class=\"sk-label-container\"><div class=\"sk-label sk-toggleable\"><input class=\"sk-toggleable__control sk-hidden--visually\" id=\"sk-estimator-id-54\" type=\"checkbox\" ><label for=\"sk-estimator-id-54\" class=\"sk-toggleable__label sk-toggleable__label-arrow\">cat</label><div class=\"sk-toggleable__content\"><pre>Index([&#x27;Dependents&#x27;, &#x27;OnlineSecurity&#x27;, &#x27;OnlineBackup&#x27;, &#x27;InternetService&#x27;,\n",
              "       &#x27;DeviceProtection&#x27;, &#x27;TechSupport&#x27;, &#x27;Contract&#x27;, &#x27;PaperlessBilling&#x27;],\n",
              "      dtype=&#x27;object&#x27;)</pre></div></div></div><div class=\"sk-serial\"><div class=\"sk-item\"><div class=\"sk-estimator sk-toggleable\"><input class=\"sk-toggleable__control sk-hidden--visually\" id=\"sk-estimator-id-55\" type=\"checkbox\" ><label for=\"sk-estimator-id-55\" class=\"sk-toggleable__label sk-toggleable__label-arrow\">OneHotEncoder</label><div class=\"sk-toggleable__content\"><pre>OneHotEncoder(drop=&#x27;first&#x27;)</pre></div></div></div></div></div></div></div></div><div class=\"sk-item\"><div class=\"sk-estimator sk-toggleable\"><input class=\"sk-toggleable__control sk-hidden--visually\" id=\"sk-estimator-id-56\" type=\"checkbox\" ><label for=\"sk-estimator-id-56\" class=\"sk-toggleable__label sk-toggleable__label-arrow\">RandomForestClassifier</label><div class=\"sk-toggleable__content\"><pre>RandomForestClassifier(random_state=32)</pre></div></div></div></div></div></div></div>"
            ]
          },
          "metadata": {},
          "execution_count": 113
        }
      ]
    },
    {
      "cell_type": "markdown",
      "source": [
        "**Pada bagian ini dilakukan evaluasi model, prosesnya sebagai berikut:**\n",
        "\n",
        "**1. Menggunakan cross validation sebanyak 5 fold dan menampilkan hasil dari cross validation beserta rata-rata keseluruhannya**\n",
        "\n",
        "**2. Model digunakan untuk membuat prediksi pada data test (X_test), akurasi dari model dikalkulasi dengan metrik akurasi**\n",
        "\n",
        "**3. Hasil akurasi, confusion matrix, classification report ditampilkan untuk memberikan gambaran kinerja dalam mengklasifikasikan data test**"
      ],
      "metadata": {
        "id": "o_THa5JcWg_B"
      }
    },
    {
      "cell_type": "code",
      "source": [
        "# Cross validation untuk evaluasi model\n",
        "cross_val_scores = cross_val_score(pipeline, X, y, cv=5, scoring='accuracy')\n",
        "print(\"Cross-Validation Scores:\", cross_val_scores)\n",
        "print(\"Rata-rata Cross-Validation Score:\", cross_val_scores.mean())\n",
        "\n",
        "# Buat prediksi dengan pipeline pada data test\n",
        "predictions = pipeline.predict(X_test)\n",
        "\n",
        "accuracy = accuracy_score(y_test, predictions)\n",
        "print(\"Random Forest Classifier Akurasi:\", accuracy)\n",
        "\n",
        "confusion = confusion_matrix(y_test, predictions)\n",
        "print(\"Confusion Matrix:\")\n",
        "print(confusion)\n",
        "\n",
        "classification_rep = classification_report(y_test, predictions)\n",
        "print(\"Classification Report:\")\n",
        "print(classification_rep)\n"
      ],
      "metadata": {
        "colab": {
          "base_uri": "https://localhost:8080/"
        },
        "id": "VTb6-Py9D7OX",
        "outputId": "03bf1987-ff7a-489f-9168-9a52d27f8949"
      },
      "execution_count": 114,
      "outputs": [
        {
          "output_type": "stream",
          "name": "stdout",
          "text": [
            "Cross-Validation Scores: [0.78600406 0.77890467 0.75760649 0.76369168 0.78904665]\n",
            "Rata-rata Cross-Validation Score: 0.775050709939148\n",
            "Random Forest Classifier Akurasi: 0.7899432278994323\n",
            "Confusion Matrix:\n",
            "[[800  98]\n",
            " [161 174]]\n",
            "Classification Report:\n",
            "              precision    recall  f1-score   support\n",
            "\n",
            "          No       0.83      0.89      0.86       898\n",
            "         Yes       0.64      0.52      0.57       335\n",
            "\n",
            "    accuracy                           0.79      1233\n",
            "   macro avg       0.74      0.71      0.72      1233\n",
            "weighted avg       0.78      0.79      0.78      1233\n",
            "\n"
          ]
        }
      ]
    },
    {
      "cell_type": "code",
      "source": [
        "# Menghitung ChurnHasilConfusion berdasarkan confusion matrix\n",
        "df['ChurnHasilConfusion'] = ''\n",
        "\n",
        "for i in range(len(X_test)):\n",
        "    if y_test.values[i] == 'Yes' and predictions[i] == 'Yes':\n",
        "        df.loc[y_test.index[i], 'ChurnHasilConfusion'] = 'TP'\n",
        "    elif y_test.values[i] == 'No' and predictions[i] == 'No':\n",
        "        df.loc[y_test.index[i], 'ChurnHasilConfusion'] = 'TN'\n",
        "    elif y_test.values[i] == 'No' and predictions[i] == 'Yes':\n",
        "        df.loc[y_test.index[i], 'ChurnHasilConfusion'] = 'FP'\n",
        "    elif y_test.values[i] == 'Yes' and predictions[i] == 'No':\n",
        "        df.loc[y_test.index[i], 'ChurnHasilConfusion'] = 'FN'\n",
        "\n",
        "# Filter hanya baris yang memiliki nilai 'TP', 'TN', 'FP', atau 'FN' pada kolom 'ChurnHasilConfusion'\n",
        "filtered_df = df[df['ChurnHasilConfusion'].isin(['TP', 'TN', 'FP', 'FN'])]\n",
        "\n",
        "# Membuat kolom 'ChurnPredicted' berdasarkan 'ChurnHasilConfusion'\n",
        "filtered_df['ChurnPredicted'] = filtered_df['ChurnHasilConfusion'].apply(\n",
        "    lambda x: 'Yes' if x in ['TP', 'FP'] else 'No' if x in ['TN', 'FN'] else ''\n",
        ")\n",
        "\n",
        "filtered_df"
      ],
      "metadata": {
        "colab": {
          "base_uri": "https://localhost:8080/",
          "height": 687
        },
        "id": "YIi0q4SWJmlg",
        "outputId": "fd03b2f2-f2c3-4894-c1eb-344bc668f2af"
      },
      "execution_count": 115,
      "outputs": [
        {
          "output_type": "stream",
          "name": "stderr",
          "text": [
            "<ipython-input-115-d1de131e9a12>:18: SettingWithCopyWarning: \n",
            "A value is trying to be set on a copy of a slice from a DataFrame.\n",
            "Try using .loc[row_indexer,col_indexer] = value instead\n",
            "\n",
            "See the caveats in the documentation: https://pandas.pydata.org/pandas-docs/stable/user_guide/indexing.html#returning-a-view-versus-a-copy\n",
            "  filtered_df['ChurnPredicted'] = filtered_df['ChurnHasilConfusion'].apply(\n"
          ]
        },
        {
          "output_type": "execute_result",
          "data": {
            "text/plain": [
              "     Dependents  tenure       OnlineSecurity         OnlineBackup  \\\n",
              "2            No      64                  Yes                   No   \n",
              "8            No       8                   No                   No   \n",
              "13           No       1                   No                   No   \n",
              "22          Yes      34  No internet service  No internet service   \n",
              "25          Yes      40                   No                   No   \n",
              "...         ...     ...                  ...                  ...   \n",
              "4917         No      68                  Yes                  Yes   \n",
              "4918         No      10  No internet service  No internet service   \n",
              "4925         No      15                   No                   No   \n",
              "4927         No      58  No internet service  No internet service   \n",
              "4928         No       1                   No                   No   \n",
              "\n",
              "     InternetService     DeviceProtection          TechSupport  \\\n",
              "2                DSL                  Yes                  Yes   \n",
              "8        Fiber optic                   No                   No   \n",
              "13               DSL                   No                  Yes   \n",
              "22                No  No internet service  No internet service   \n",
              "25       Fiber optic                  Yes                   No   \n",
              "...              ...                  ...                  ...   \n",
              "4917     Fiber optic                  Yes                   No   \n",
              "4918              No  No internet service  No internet service   \n",
              "4925     Fiber optic                  Yes                  Yes   \n",
              "4927              No  No internet service  No internet service   \n",
              "4928     Fiber optic                   No                   No   \n",
              "\n",
              "            Contract PaperlessBilling  MonthlyCharges Churn  \\\n",
              "2           Two year               No           47.85   Yes   \n",
              "8     Month-to-month              Yes           73.50    No   \n",
              "13    Month-to-month               No           30.55    No   \n",
              "22    Month-to-month               No           20.65    No   \n",
              "25    Month-to-month              Yes           81.20    No   \n",
              "...              ...              ...             ...   ...   \n",
              "4917        One year               No          101.35    No   \n",
              "4918  Month-to-month              Yes           24.00    No   \n",
              "4925  Month-to-month              Yes          103.45    No   \n",
              "4927        Two year               No           20.75    No   \n",
              "4928  Month-to-month              Yes           69.75   Yes   \n",
              "\n",
              "     ChurnHasilConfusion ChurnPredicted  \n",
              "2                     FN             No  \n",
              "8                     TN             No  \n",
              "13                    FP            Yes  \n",
              "22                    TN             No  \n",
              "25                    TN             No  \n",
              "...                  ...            ...  \n",
              "4917                  TN             No  \n",
              "4918                  TN             No  \n",
              "4925                  FP            Yes  \n",
              "4927                  TN             No  \n",
              "4928                  TP            Yes  \n",
              "\n",
              "[1233 rows x 13 columns]"
            ],
            "text/html": [
              "\n",
              "  <div id=\"df-94d53700-e2f4-4f05-bc98-e1eae6a515d9\" class=\"colab-df-container\">\n",
              "    <div>\n",
              "<style scoped>\n",
              "    .dataframe tbody tr th:only-of-type {\n",
              "        vertical-align: middle;\n",
              "    }\n",
              "\n",
              "    .dataframe tbody tr th {\n",
              "        vertical-align: top;\n",
              "    }\n",
              "\n",
              "    .dataframe thead th {\n",
              "        text-align: right;\n",
              "    }\n",
              "</style>\n",
              "<table border=\"1\" class=\"dataframe\">\n",
              "  <thead>\n",
              "    <tr style=\"text-align: right;\">\n",
              "      <th></th>\n",
              "      <th>Dependents</th>\n",
              "      <th>tenure</th>\n",
              "      <th>OnlineSecurity</th>\n",
              "      <th>OnlineBackup</th>\n",
              "      <th>InternetService</th>\n",
              "      <th>DeviceProtection</th>\n",
              "      <th>TechSupport</th>\n",
              "      <th>Contract</th>\n",
              "      <th>PaperlessBilling</th>\n",
              "      <th>MonthlyCharges</th>\n",
              "      <th>Churn</th>\n",
              "      <th>ChurnHasilConfusion</th>\n",
              "      <th>ChurnPredicted</th>\n",
              "    </tr>\n",
              "  </thead>\n",
              "  <tbody>\n",
              "    <tr>\n",
              "      <th>2</th>\n",
              "      <td>No</td>\n",
              "      <td>64</td>\n",
              "      <td>Yes</td>\n",
              "      <td>No</td>\n",
              "      <td>DSL</td>\n",
              "      <td>Yes</td>\n",
              "      <td>Yes</td>\n",
              "      <td>Two year</td>\n",
              "      <td>No</td>\n",
              "      <td>47.85</td>\n",
              "      <td>Yes</td>\n",
              "      <td>FN</td>\n",
              "      <td>No</td>\n",
              "    </tr>\n",
              "    <tr>\n",
              "      <th>8</th>\n",
              "      <td>No</td>\n",
              "      <td>8</td>\n",
              "      <td>No</td>\n",
              "      <td>No</td>\n",
              "      <td>Fiber optic</td>\n",
              "      <td>No</td>\n",
              "      <td>No</td>\n",
              "      <td>Month-to-month</td>\n",
              "      <td>Yes</td>\n",
              "      <td>73.50</td>\n",
              "      <td>No</td>\n",
              "      <td>TN</td>\n",
              "      <td>No</td>\n",
              "    </tr>\n",
              "    <tr>\n",
              "      <th>13</th>\n",
              "      <td>No</td>\n",
              "      <td>1</td>\n",
              "      <td>No</td>\n",
              "      <td>No</td>\n",
              "      <td>DSL</td>\n",
              "      <td>No</td>\n",
              "      <td>Yes</td>\n",
              "      <td>Month-to-month</td>\n",
              "      <td>No</td>\n",
              "      <td>30.55</td>\n",
              "      <td>No</td>\n",
              "      <td>FP</td>\n",
              "      <td>Yes</td>\n",
              "    </tr>\n",
              "    <tr>\n",
              "      <th>22</th>\n",
              "      <td>Yes</td>\n",
              "      <td>34</td>\n",
              "      <td>No internet service</td>\n",
              "      <td>No internet service</td>\n",
              "      <td>No</td>\n",
              "      <td>No internet service</td>\n",
              "      <td>No internet service</td>\n",
              "      <td>Month-to-month</td>\n",
              "      <td>No</td>\n",
              "      <td>20.65</td>\n",
              "      <td>No</td>\n",
              "      <td>TN</td>\n",
              "      <td>No</td>\n",
              "    </tr>\n",
              "    <tr>\n",
              "      <th>25</th>\n",
              "      <td>Yes</td>\n",
              "      <td>40</td>\n",
              "      <td>No</td>\n",
              "      <td>No</td>\n",
              "      <td>Fiber optic</td>\n",
              "      <td>Yes</td>\n",
              "      <td>No</td>\n",
              "      <td>Month-to-month</td>\n",
              "      <td>Yes</td>\n",
              "      <td>81.20</td>\n",
              "      <td>No</td>\n",
              "      <td>TN</td>\n",
              "      <td>No</td>\n",
              "    </tr>\n",
              "    <tr>\n",
              "      <th>...</th>\n",
              "      <td>...</td>\n",
              "      <td>...</td>\n",
              "      <td>...</td>\n",
              "      <td>...</td>\n",
              "      <td>...</td>\n",
              "      <td>...</td>\n",
              "      <td>...</td>\n",
              "      <td>...</td>\n",
              "      <td>...</td>\n",
              "      <td>...</td>\n",
              "      <td>...</td>\n",
              "      <td>...</td>\n",
              "      <td>...</td>\n",
              "    </tr>\n",
              "    <tr>\n",
              "      <th>4917</th>\n",
              "      <td>No</td>\n",
              "      <td>68</td>\n",
              "      <td>Yes</td>\n",
              "      <td>Yes</td>\n",
              "      <td>Fiber optic</td>\n",
              "      <td>Yes</td>\n",
              "      <td>No</td>\n",
              "      <td>One year</td>\n",
              "      <td>No</td>\n",
              "      <td>101.35</td>\n",
              "      <td>No</td>\n",
              "      <td>TN</td>\n",
              "      <td>No</td>\n",
              "    </tr>\n",
              "    <tr>\n",
              "      <th>4918</th>\n",
              "      <td>No</td>\n",
              "      <td>10</td>\n",
              "      <td>No internet service</td>\n",
              "      <td>No internet service</td>\n",
              "      <td>No</td>\n",
              "      <td>No internet service</td>\n",
              "      <td>No internet service</td>\n",
              "      <td>Month-to-month</td>\n",
              "      <td>Yes</td>\n",
              "      <td>24.00</td>\n",
              "      <td>No</td>\n",
              "      <td>TN</td>\n",
              "      <td>No</td>\n",
              "    </tr>\n",
              "    <tr>\n",
              "      <th>4925</th>\n",
              "      <td>No</td>\n",
              "      <td>15</td>\n",
              "      <td>No</td>\n",
              "      <td>No</td>\n",
              "      <td>Fiber optic</td>\n",
              "      <td>Yes</td>\n",
              "      <td>Yes</td>\n",
              "      <td>Month-to-month</td>\n",
              "      <td>Yes</td>\n",
              "      <td>103.45</td>\n",
              "      <td>No</td>\n",
              "      <td>FP</td>\n",
              "      <td>Yes</td>\n",
              "    </tr>\n",
              "    <tr>\n",
              "      <th>4927</th>\n",
              "      <td>No</td>\n",
              "      <td>58</td>\n",
              "      <td>No internet service</td>\n",
              "      <td>No internet service</td>\n",
              "      <td>No</td>\n",
              "      <td>No internet service</td>\n",
              "      <td>No internet service</td>\n",
              "      <td>Two year</td>\n",
              "      <td>No</td>\n",
              "      <td>20.75</td>\n",
              "      <td>No</td>\n",
              "      <td>TN</td>\n",
              "      <td>No</td>\n",
              "    </tr>\n",
              "    <tr>\n",
              "      <th>4928</th>\n",
              "      <td>No</td>\n",
              "      <td>1</td>\n",
              "      <td>No</td>\n",
              "      <td>No</td>\n",
              "      <td>Fiber optic</td>\n",
              "      <td>No</td>\n",
              "      <td>No</td>\n",
              "      <td>Month-to-month</td>\n",
              "      <td>Yes</td>\n",
              "      <td>69.75</td>\n",
              "      <td>Yes</td>\n",
              "      <td>TP</td>\n",
              "      <td>Yes</td>\n",
              "    </tr>\n",
              "  </tbody>\n",
              "</table>\n",
              "<p>1233 rows × 13 columns</p>\n",
              "</div>\n",
              "    <div class=\"colab-df-buttons\">\n",
              "\n",
              "  <div class=\"colab-df-container\">\n",
              "    <button class=\"colab-df-convert\" onclick=\"convertToInteractive('df-94d53700-e2f4-4f05-bc98-e1eae6a515d9')\"\n",
              "            title=\"Convert this dataframe to an interactive table.\"\n",
              "            style=\"display:none;\">\n",
              "\n",
              "  <svg xmlns=\"http://www.w3.org/2000/svg\" height=\"24px\" viewBox=\"0 -960 960 960\">\n",
              "    <path d=\"M120-120v-720h720v720H120Zm60-500h600v-160H180v160Zm220 220h160v-160H400v160Zm0 220h160v-160H400v160ZM180-400h160v-160H180v160Zm440 0h160v-160H620v160ZM180-180h160v-160H180v160Zm440 0h160v-160H620v160Z\"/>\n",
              "  </svg>\n",
              "    </button>\n",
              "\n",
              "  <style>\n",
              "    .colab-df-container {\n",
              "      display:flex;\n",
              "      gap: 12px;\n",
              "    }\n",
              "\n",
              "    .colab-df-convert {\n",
              "      background-color: #E8F0FE;\n",
              "      border: none;\n",
              "      border-radius: 50%;\n",
              "      cursor: pointer;\n",
              "      display: none;\n",
              "      fill: #1967D2;\n",
              "      height: 32px;\n",
              "      padding: 0 0 0 0;\n",
              "      width: 32px;\n",
              "    }\n",
              "\n",
              "    .colab-df-convert:hover {\n",
              "      background-color: #E2EBFA;\n",
              "      box-shadow: 0px 1px 2px rgba(60, 64, 67, 0.3), 0px 1px 3px 1px rgba(60, 64, 67, 0.15);\n",
              "      fill: #174EA6;\n",
              "    }\n",
              "\n",
              "    .colab-df-buttons div {\n",
              "      margin-bottom: 4px;\n",
              "    }\n",
              "\n",
              "    [theme=dark] .colab-df-convert {\n",
              "      background-color: #3B4455;\n",
              "      fill: #D2E3FC;\n",
              "    }\n",
              "\n",
              "    [theme=dark] .colab-df-convert:hover {\n",
              "      background-color: #434B5C;\n",
              "      box-shadow: 0px 1px 3px 1px rgba(0, 0, 0, 0.15);\n",
              "      filter: drop-shadow(0px 1px 2px rgba(0, 0, 0, 0.3));\n",
              "      fill: #FFFFFF;\n",
              "    }\n",
              "  </style>\n",
              "\n",
              "    <script>\n",
              "      const buttonEl =\n",
              "        document.querySelector('#df-94d53700-e2f4-4f05-bc98-e1eae6a515d9 button.colab-df-convert');\n",
              "      buttonEl.style.display =\n",
              "        google.colab.kernel.accessAllowed ? 'block' : 'none';\n",
              "\n",
              "      async function convertToInteractive(key) {\n",
              "        const element = document.querySelector('#df-94d53700-e2f4-4f05-bc98-e1eae6a515d9');\n",
              "        const dataTable =\n",
              "          await google.colab.kernel.invokeFunction('convertToInteractive',\n",
              "                                                    [key], {});\n",
              "        if (!dataTable) return;\n",
              "\n",
              "        const docLinkHtml = 'Like what you see? Visit the ' +\n",
              "          '<a target=\"_blank\" href=https://colab.research.google.com/notebooks/data_table.ipynb>data table notebook</a>'\n",
              "          + ' to learn more about interactive tables.';\n",
              "        element.innerHTML = '';\n",
              "        dataTable['output_type'] = 'display_data';\n",
              "        await google.colab.output.renderOutput(dataTable, element);\n",
              "        const docLink = document.createElement('div');\n",
              "        docLink.innerHTML = docLinkHtml;\n",
              "        element.appendChild(docLink);\n",
              "      }\n",
              "    </script>\n",
              "  </div>\n",
              "\n",
              "\n",
              "<div id=\"df-9d1a9b8c-f189-4486-82ae-1c43f7fe1372\">\n",
              "  <button class=\"colab-df-quickchart\" onclick=\"quickchart('df-9d1a9b8c-f189-4486-82ae-1c43f7fe1372')\"\n",
              "            title=\"Suggest charts.\"\n",
              "            style=\"display:none;\">\n",
              "\n",
              "<svg xmlns=\"http://www.w3.org/2000/svg\" height=\"24px\"viewBox=\"0 0 24 24\"\n",
              "     width=\"24px\">\n",
              "    <g>\n",
              "        <path d=\"M19 3H5c-1.1 0-2 .9-2 2v14c0 1.1.9 2 2 2h14c1.1 0 2-.9 2-2V5c0-1.1-.9-2-2-2zM9 17H7v-7h2v7zm4 0h-2V7h2v10zm4 0h-2v-4h2v4z\"/>\n",
              "    </g>\n",
              "</svg>\n",
              "  </button>\n",
              "\n",
              "<style>\n",
              "  .colab-df-quickchart {\n",
              "      --bg-color: #E8F0FE;\n",
              "      --fill-color: #1967D2;\n",
              "      --hover-bg-color: #E2EBFA;\n",
              "      --hover-fill-color: #174EA6;\n",
              "      --disabled-fill-color: #AAA;\n",
              "      --disabled-bg-color: #DDD;\n",
              "  }\n",
              "\n",
              "  [theme=dark] .colab-df-quickchart {\n",
              "      --bg-color: #3B4455;\n",
              "      --fill-color: #D2E3FC;\n",
              "      --hover-bg-color: #434B5C;\n",
              "      --hover-fill-color: #FFFFFF;\n",
              "      --disabled-bg-color: #3B4455;\n",
              "      --disabled-fill-color: #666;\n",
              "  }\n",
              "\n",
              "  .colab-df-quickchart {\n",
              "    background-color: var(--bg-color);\n",
              "    border: none;\n",
              "    border-radius: 50%;\n",
              "    cursor: pointer;\n",
              "    display: none;\n",
              "    fill: var(--fill-color);\n",
              "    height: 32px;\n",
              "    padding: 0;\n",
              "    width: 32px;\n",
              "  }\n",
              "\n",
              "  .colab-df-quickchart:hover {\n",
              "    background-color: var(--hover-bg-color);\n",
              "    box-shadow: 0 1px 2px rgba(60, 64, 67, 0.3), 0 1px 3px 1px rgba(60, 64, 67, 0.15);\n",
              "    fill: var(--button-hover-fill-color);\n",
              "  }\n",
              "\n",
              "  .colab-df-quickchart-complete:disabled,\n",
              "  .colab-df-quickchart-complete:disabled:hover {\n",
              "    background-color: var(--disabled-bg-color);\n",
              "    fill: var(--disabled-fill-color);\n",
              "    box-shadow: none;\n",
              "  }\n",
              "\n",
              "  .colab-df-spinner {\n",
              "    border: 2px solid var(--fill-color);\n",
              "    border-color: transparent;\n",
              "    border-bottom-color: var(--fill-color);\n",
              "    animation:\n",
              "      spin 1s steps(1) infinite;\n",
              "  }\n",
              "\n",
              "  @keyframes spin {\n",
              "    0% {\n",
              "      border-color: transparent;\n",
              "      border-bottom-color: var(--fill-color);\n",
              "      border-left-color: var(--fill-color);\n",
              "    }\n",
              "    20% {\n",
              "      border-color: transparent;\n",
              "      border-left-color: var(--fill-color);\n",
              "      border-top-color: var(--fill-color);\n",
              "    }\n",
              "    30% {\n",
              "      border-color: transparent;\n",
              "      border-left-color: var(--fill-color);\n",
              "      border-top-color: var(--fill-color);\n",
              "      border-right-color: var(--fill-color);\n",
              "    }\n",
              "    40% {\n",
              "      border-color: transparent;\n",
              "      border-right-color: var(--fill-color);\n",
              "      border-top-color: var(--fill-color);\n",
              "    }\n",
              "    60% {\n",
              "      border-color: transparent;\n",
              "      border-right-color: var(--fill-color);\n",
              "    }\n",
              "    80% {\n",
              "      border-color: transparent;\n",
              "      border-right-color: var(--fill-color);\n",
              "      border-bottom-color: var(--fill-color);\n",
              "    }\n",
              "    90% {\n",
              "      border-color: transparent;\n",
              "      border-bottom-color: var(--fill-color);\n",
              "    }\n",
              "  }\n",
              "</style>\n",
              "\n",
              "  <script>\n",
              "    async function quickchart(key) {\n",
              "      const quickchartButtonEl =\n",
              "        document.querySelector('#' + key + ' button');\n",
              "      quickchartButtonEl.disabled = true;  // To prevent multiple clicks.\n",
              "      quickchartButtonEl.classList.add('colab-df-spinner');\n",
              "      try {\n",
              "        const charts = await google.colab.kernel.invokeFunction(\n",
              "            'suggestCharts', [key], {});\n",
              "      } catch (error) {\n",
              "        console.error('Error during call to suggestCharts:', error);\n",
              "      }\n",
              "      quickchartButtonEl.classList.remove('colab-df-spinner');\n",
              "      quickchartButtonEl.classList.add('colab-df-quickchart-complete');\n",
              "    }\n",
              "    (() => {\n",
              "      let quickchartButtonEl =\n",
              "        document.querySelector('#df-9d1a9b8c-f189-4486-82ae-1c43f7fe1372 button');\n",
              "      quickchartButtonEl.style.display =\n",
              "        google.colab.kernel.accessAllowed ? 'block' : 'none';\n",
              "    })();\n",
              "  </script>\n",
              "</div>\n",
              "    </div>\n",
              "  </div>\n"
            ]
          },
          "metadata": {},
          "execution_count": 115
        }
      ]
    },
    {
      "cell_type": "markdown",
      "source": [
        "**Persentase profit dari Churn yang belum diprediksi**"
      ],
      "metadata": {
        "id": "dW_G8ZsrJzds"
      }
    },
    {
      "cell_type": "code",
      "source": [
        "pendapatan_yes = filtered_df[filtered_df['Churn'] == 'Yes']['MonthlyCharges'].sum()\n",
        "pendapatan_no = filtered_df[filtered_df['Churn'] == 'No']['MonthlyCharges'].sum()\n",
        "\n",
        "total_pendapatan = filtered_df['MonthlyCharges'].sum()\n",
        "\n",
        "print(\"Pendapatan (harga per bulan) untuk 'Yes':\", pendapatan_yes)\n",
        "print(\"Pendapatan (harga per bulan) untuk 'No':\", pendapatan_no)\n",
        "\n",
        "profit_percentage = ((pendapatan_no - pendapatan_yes) / total_pendapatan) * 100\n",
        "print(\"Persentase Profit:\", profit_percentage)"
      ],
      "metadata": {
        "colab": {
          "base_uri": "https://localhost:8080/"
        },
        "id": "mibLGZOkJK1x",
        "outputId": "2fd227c8-07f7-409d-9f8f-4a17819bf143"
      },
      "execution_count": 116,
      "outputs": [
        {
          "output_type": "stream",
          "name": "stdout",
          "text": [
            "Pendapatan (harga per bulan) untuk 'Yes': 25667.699999999997\n",
            "Pendapatan (harga per bulan) untuk 'No': 56216.799999999996\n",
            "Persentase Profit: 37.307549047744075\n"
          ]
        }
      ]
    },
    {
      "cell_type": "markdown",
      "source": [
        "**Persentase profit dari Churn yang telah diprediksi dengan Model Random Forest Classifier**"
      ],
      "metadata": {
        "id": "h1Lo_wjDJ0PK"
      }
    },
    {
      "cell_type": "code",
      "source": [
        "pendapatan_yes = filtered_df[filtered_df['ChurnPredicted'] == 'Yes']['MonthlyCharges'].sum()\n",
        "pendapatan_no = filtered_df[filtered_df['ChurnPredicted'] == 'No']['MonthlyCharges'].sum()\n",
        "\n",
        "total_pendapatan = filtered_df['MonthlyCharges'].sum()\n",
        "print(\"Pendapatan (harga per bulan) untuk 'Yes':\", pendapatan_yes)\n",
        "print(\"Pendapatan (harga per bulan) untuk 'No':\", pendapatan_no)\n",
        "\n",
        "profit_percentage = ((pendapatan_no - pendapatan_yes) / total_pendapatan) * 100\n",
        "print(\"Persentase Profit:\", profit_percentage)"
      ],
      "metadata": {
        "colab": {
          "base_uri": "https://localhost:8080/"
        },
        "id": "7e6qjB2pJLTP",
        "outputId": "5777ea54-990d-43f8-ff4e-a614f936329b"
      },
      "execution_count": 117,
      "outputs": [
        {
          "output_type": "stream",
          "name": "stdout",
          "text": [
            "Pendapatan (harga per bulan) untuk 'Yes': 21436.25\n",
            "Pendapatan (harga per bulan) untuk 'No': 60448.25\n",
            "Persentase Profit: 47.642716264982994\n"
          ]
        }
      ]
    },
    {
      "cell_type": "markdown",
      "source": [
        "**Hasil dari Pemodelan dengan Random Forest Classifier**\n",
        "\n",
        "**Cross Validation Scores masing masing hasilnya adalah [0.78600406 0.77890467 0.75760649 0.76369168 0.78904665] dan rata-rata keseluruhan 0.775 berdasarkan 5 iterasi.**\n",
        "\n",
        "**Akurasi Rnadom Forest Classifier sebesar 0.79, hal ini berarti model memprediksi dengan benar sekitar 79% data test**\n",
        "\n",
        "**Confusion Matrix untuk memberikan gambaran sejauh mana model berhasil memprediksi kelas Yes dan No. Hasil dari confusion matrix dapat dijabarkan sebagai berikut:**\n",
        "\n",
        "**True Positive = 174, yaitu jumlah label \"Yes\" yang benar-benar diprediksi sebagai \"Yes\"**\n",
        "\n",
        "**True Negative = 800, yaitu jumlah label \"No\" yang benar-benar diprediksi sebagai \"No\"**\n",
        "\n",
        "**False Positive = 98, yaitu jumlah label \"No\" yang salah diprediksi sebagai \"Yes\"**\n",
        "\n",
        "**False Negative = 161, yaitu jumlah label \"Yes\" yang salah diprediksi sebagai \"No\"**\n",
        "\n",
        "**Classification Report untuk menampilkan informasi rinci kinerja model, dalam informasi ini terdapat precision, recall, dan f1-score untuk masing-masing kelas dan rata-rata setiap metrik. Pada hasil di atas, untuk kelas 'No', Precision sekitar 0.83, Recall 0.89, dan F1-Score 0.86. Hal ini menunjukkan model cukup baik dalam memprediksi kelas 'No'. Untuk kelas 'Yes', Precision lebih rendah yaitu sekitar 0.64, recall 0.52, dan F1-Score 0.57, yang berarti kinerja lebih buruk dalam memprediksi kelas 'Yes'**"
      ],
      "metadata": {
        "id": "OnjUufC3WmkP"
      }
    },
    {
      "cell_type": "markdown",
      "source": [
        "# **RELEVANSI MODEL**\n",
        "\n",
        "**Model ini relevan karena dapat membantu perusahaan telekomunikasi memahami perilaku pelanggan dan memprediksi kemungkinan pelanggan untuk berhenti berlangganan (Churn), dalam bisnis telekomunikasi dalam hal memahami perilaku pelanggan sangat penting karena dapat membantu perusahaan  mengambil tindakan dalam mempertahankan pelanggan**"
      ],
      "metadata": {
        "id": "MxzkfM3Mb5HY"
      }
    },
    {
      "cell_type": "markdown",
      "source": [
        "# **MENGAPA MODEL INI DIBUTUHKAN?**\n",
        "\n",
        "**Model ini dibutuhkan karena dapat memberikan informasi kepada perusahaan seputar faktor-faktor yang mempengaruhi pelanggan untuk berhenti berlangganan, dengan informasi ini, perusahaan dapat melakukan keputusan dan startegi dalam mempertahankan pelanggan secara efektif**\n",
        "\n",
        "**Model ini juga memmiliki kemampuan untuk analisis banyak fitur dan pola rumit pada data pelanggan dibandingkan menggunakan pendekatan manual yang mungkin sulit dalam analisisnya**"
      ],
      "metadata": {
        "id": "TP_Es57Scbad"
      }
    },
    {
      "cell_type": "markdown",
      "source": [
        "# **PERBANDINGAN DENGAN MENGGUNAKAN METODE KONVENSIONAL**\n",
        "\n",
        "**Menggunakan metode konvensional mungkin hanya mengandalkan analisis sederhana untuk menilai tingkat Churn**\n",
        "\n",
        "**Model jauh lebih akurat karena dapat memanfaatkan teknik machine learning untuk memproses dan analisis data lebih dalam, mampu melakukan identifikasi hubungan non linear dan interaksi antar variabel, dan memprediksi tingkat Churn dengan akurasi yang cukup tinggi**"
      ],
      "metadata": {
        "id": "b6M8lJdCdxvL"
      }
    },
    {
      "cell_type": "markdown",
      "source": [
        "# **PENJELASAN CARA KERJA MODEL TERBAIK (SUPPORT VECTOR CLASSIFIER)**\n",
        "\n",
        "**Model ini merupakan model klasifikasi yang dapat menemukan garis terbaik yang memisahkan 2 kelas dalam data. Model ini mencari garis yang memiliki jarak max dari titik-titik data terdekat dari 2 kelas. Hal ini memungkinkan model untuk memisahkan kelas sebaik mungkin. Model ini juga dapat menangani data yang tidak dapat dipisahkan secara linear dan digunakan pada banyak masalah klasifikasi. Akurasi yang dihasilkan model ini mencapai 0.795 dimana ini cukup tinggi untuk sebuah model klasifikasi, lebih tinggi dari metode lain yang digunakan (Random Forest Classifier) yang menghasikan akurasi hanya sebesar 0.775**"
      ],
      "metadata": {
        "id": "sKm3VqOif2st"
      }
    },
    {
      "cell_type": "markdown",
      "source": [
        "## **PENJELASAN CARA KERJA MODEL RANDOM FOREST CLASSIFIER**\n",
        "\n",
        "**Model ini bekerja dengan cara penggabungan prediksi dari banyak pohon keputusan. Setiap pohon memberikan voting dalam penentuan hasil akhir. Model ini kuat dalam menghindari overfitting dan cocok untuk beragam jenis data**"
      ],
      "metadata": {
        "id": "7AxvK76d50Hl"
      }
    },
    {
      "cell_type": "markdown",
      "source": [
        "# **METRIK YANG DIGUNAKAN**\n",
        "\n",
        "**Dalam 2 model yang digunakan pada analisis ini terdapat metrik:**\n",
        "\n",
        "**Akurasi yang mengkuur sejauh mana model berhasil memprediksi kelas dengan benar dalam seluruh data**\n",
        "\n",
        "**Confusion Matrix yang mencakup metrik seperti True Positives, True Negatives, False Positives, False Negatives, hal ini membantu mengukur sejauh mana model memprediksi kelas positif dan negatif dengan benar**\n",
        "\n",
        "**Classification Report yang memberikan informasi lebih lanjut tentang Precision, Recall, F1-Score, dan Support untuk masing-masing kelas, berikut rumus dan penjelasan dari metrik tersebut:**\n",
        "\n",
        "## **Precision = TP/(TP+FP)**\n",
        "\n",
        "**Precision ini digunakan untuk mengukur sejauh mana dari prediksi positif yang benar-benar diprediksi sebagai True**\n",
        "\n",
        "## **Recall = TP/(TP+FN)**\n",
        "\n",
        "**Recall mengukur sejauh mana model mampu melakukan deteksi semua instance positif yang sebenarnya ada. Hal ini dapat mengukur seberapa banyak dari data positif yang berhasil ditemukan model**\n",
        "\n",
        "## **F1-Score = 2*(Precision * Recall)/(Precision+Recall)**\n",
        "\n",
        "**F1-Score adalah rata-rata dari Precision dan Recall, digunakan ketika ingin mempertimbangkan kedua metrik ini secara bersamaan**\n",
        "\n",
        "## **Support**\n",
        "\n",
        "**Support merupakan jumlah instance dalam masing-masing kelas. Ini merupakan frekuensi masing-masing kelas dalam data test**"
      ],
      "metadata": {
        "id": "4p9eL6f-fGbu"
      }
    },
    {
      "cell_type": "markdown",
      "source": [
        "# **FEATURE IMPORTANCES**\n",
        "\n",
        "**pada bagian ini, hasil perhitungan dari Chi-squared menampilkan bahwa fitur-fitur paling berpengaruh terhadap 'Churn' adalah Contract, OnlineSecurity, dan TechSupport. Hal ini berarti ketiga fitur tersebut punya pengaruh signifikan terhadap pelanggan untuk berhenti berlangganan, oleh sebab itu dengan memperhatikan fitur ini, perusahaan sebaiknya memberikan perhatian lebih pada fitur ini untuk penyusunan strategi dalam mempertahankan customer**"
      ],
      "metadata": {
        "id": "58CfiRm8hEri"
      }
    },
    {
      "cell_type": "markdown",
      "source": [
        "# **LIMITASI MODEL**\n",
        "\n",
        "**Model SVC memiliki beberapa limitasi yaitu hanya memberikan prediksi berdasarkan data historis yang diberikan, jika ada perubahan signifikan pada perilaku customer atau faktor-faktor eksternal yang tidak diwakili pada data historis, model mungkin tidak akan mampu memprediksi dengan akurat. Model ini juga memerlukan data dengan kualitas yang tinggi**\n",
        "\n",
        "**Model RandomForestClassifier memiliki limitasi yakni kurang baik dalam menangani ketidakseimbangan data, kurang cocok untuk data yang memiliki fitur tinggi, dan rentan terhadap perubahan data**"
      ],
      "metadata": {
        "id": "dxA7J5m_ioss"
      }
    },
    {
      "cell_type": "markdown",
      "source": [
        "# **KESIMPULAN**\n",
        "\n",
        "**Dalam analisis ini, model SVC dan RandomForestClassifier digunakan untuk memprediksi churn pada data pelanggan perusahaan telekomunikasi. Model-model tersebut memiliki keunggulan untuk memprediksi kelas 'No' daripada 'Yes', disamping itu model ini memiliki batasan kerentanan terhadap data yang tidak seimbang dan sering berubah. Akurasi yang dihasilkan kedua model ini cukup baik dengan rata-rata di atas 78% untuk seluruh model dimana model ini cukup baik untuk digunakan perusahaan dalam menentukan strategi dalam mempertahankan customer**"
      ],
      "metadata": {
        "id": "hYRDqTufAE9B"
      }
    },
    {
      "cell_type": "markdown",
      "metadata": {
        "id": "rMySC2P0ZEWj"
      },
      "source": [
        "# **REKOMENDASI**\n",
        "\n",
        "**Model SVC memiliki akurasi yang cukup baik, terutama dalam identifikasi customer yang tidak akan churn (kategori No). Tapi model ini kesulitan dalam mengenali customer yang akan churn (Kategori Yes), bisa dilihat dari nilai recall yang rendah. Untuk meningkatkan performa modelm bisa dilakukan evaluasi dan penyesuaian parameter model SVC, dan bisa mencoba model ML lain yang lebih cocok untuk kasus ini. Pada Random Forest Classifier, akurasinya juga cukup baik, model ini mampu mengidentifikasi customer yang tidak akan churn daripada yang churn. Rekomendasi sama dengan model SVC tadi yaitu dapat dilakukan penyesuaian parameter dan mencoba model Machine Learning lain sehingga bisa mengetahui akurasi yang mungkin lebih tinggi**"
      ]
    }
  ],
  "metadata": {
    "accelerator": "GPU",
    "colab": {
      "gpuType": "T4",
      "provenance": []
    },
    "kernelspec": {
      "display_name": "Python 3 (ipykernel)",
      "language": "python",
      "name": "python3"
    },
    "language_info": {
      "codemirror_mode": {
        "name": "ipython",
        "version": 3
      },
      "file_extension": ".py",
      "mimetype": "text/x-python",
      "name": "python",
      "nbconvert_exporter": "python",
      "pygments_lexer": "ipython3",
      "version": "3.11.3"
    }
  },
  "nbformat": 4,
  "nbformat_minor": 0
}